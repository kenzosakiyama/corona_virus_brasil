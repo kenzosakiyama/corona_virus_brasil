{
 "nbformat": 4,
 "nbformat_minor": 2,
 "metadata": {
  "language_info": {
   "name": "python",
   "codemirror_mode": {
    "name": "ipython",
    "version": 3
   },
   "version": "3.7.7-final"
  },
  "orig_nbformat": 2,
  "file_extension": ".py",
  "mimetype": "text/x-python",
  "name": "python",
  "npconvert_exporter": "python",
  "pygments_lexer": "ipython3",
  "version": 3,
  "kernelspec": {
   "name": "python37764bit8cae92954396406fae214d2a45a235d9",
   "display_name": "Python 3.7.7 64-bit"
  }
 },
 "cells": [
  {
   "cell_type": "code",
   "execution_count": 1,
   "metadata": {},
   "outputs": [],
   "source": [
    "import pandas as pd"
   ]
  },
  {
   "cell_type": "code",
   "execution_count": 2,
   "metadata": {},
   "outputs": [],
   "source": [
    "PATH_TO_DATA = \"../../../Sistemas de Apoio a Decisão/dados_trabalho/raw/brasil_demografia_censo2010.json\""
   ]
  },
  {
   "cell_type": "code",
   "execution_count": 3,
   "metadata": {},
   "outputs": [],
   "source": [
    "censo_df = pd.read_json(PATH_TO_DATA)"
   ]
  },
  {
   "cell_type": "code",
   "execution_count": 4,
   "metadata": {},
   "outputs": [
    {
     "output_type": "execute_result",
     "data": {
      "text/plain": "NC                            Nível Territorial (Código)\nNN                                     Nível Territorial\nD1C                  Brasil, Grande Região e UF (Código)\nD1N                           Brasil, Grande Região e UF\nD2C                                    Variável (Código)\nD2N                                             Variável\nD3C                                         Ano (Código)\nD3N                                                  Ano\nD4C                       Situação do domicílio (Código)\nD4N                                Situação do domicílio\nD5C                                        Sexo (Código)\nD5N                                                 Sexo\nD6C                                       Idade (Código)\nD6N                                                Idade\nD7C    Condição no domicílio e o compartilhamento da ...\nD7N    Condição no domicílio e o compartilhamento da ...\nMC                            Unidade de Medida (Código)\nMN                                     Unidade de Medida\nV                                                  Valor\nName: 0, dtype: object"
     },
     "metadata": {},
     "execution_count": 4
    }
   ],
   "source": [
    "header = censo_df.loc[0]\n",
    "censo_df.drop(index=0, inplace=True)\n",
    "header"
   ]
  },
  {
   "cell_type": "code",
   "execution_count": 5,
   "metadata": {},
   "outputs": [
    {
     "output_type": "execute_result",
     "data": {
      "text/plain": "array(['Brasil', 'Grande Região', 'Unidade da Federação'], dtype=object)"
     },
     "metadata": {},
     "execution_count": 5
    }
   ],
   "source": [
    "censo_df[\"NN\"].unique()"
   ]
  },
  {
   "cell_type": "markdown",
   "metadata": {},
   "source": [
    "# Regiões"
   ]
  },
  {
   "cell_type": "code",
   "execution_count": 6,
   "metadata": {},
   "outputs": [],
   "source": [
    "regioes_df = pd.DataFrame(index=censo_df[censo_df[\"NN\"] == \"Grande Região\"][\"D1N\"].unique(), columns=[\"rural\", \"urbana\", \"total\"])"
   ]
  },
  {
   "cell_type": "code",
   "execution_count": 7,
   "metadata": {},
   "outputs": [],
   "source": [
    "regioes_raw = censo_df[censo_df[\"NN\"] == \"Grande Região\"]"
   ]
  },
  {
   "cell_type": "code",
   "execution_count": 8,
   "metadata": {},
   "outputs": [],
   "source": [
    "regioes_df[\"total\"] = regioes_raw[regioes_raw[\"D4N\"] == \"Total\"][\"V\"].values\n",
    "regioes_df[\"rural\"] = regioes_raw[regioes_raw[\"D4N\"] == \"Rural\"][\"V\"].values\n",
    "regioes_df[\"urbana\"] = regioes_raw[regioes_raw[\"D4N\"] == \"Urbana\"][\"V\"].values"
   ]
  },
  {
   "cell_type": "code",
   "execution_count": 9,
   "metadata": {},
   "outputs": [
    {
     "output_type": "execute_result",
     "data": {
      "text/plain": "                 rural    urbana     total\nNorte          4199945  11664509  15864454\nNordeste      14260692  38821258  53081950\nSudeste        5668232  74696178  80364410\nSul            4125995  23260896  27386891\nCentro-Oeste   1575131  12482963  14058094",
      "text/html": "<div>\n<style scoped>\n    .dataframe tbody tr th:only-of-type {\n        vertical-align: middle;\n    }\n\n    .dataframe tbody tr th {\n        vertical-align: top;\n    }\n\n    .dataframe thead th {\n        text-align: right;\n    }\n</style>\n<table border=\"1\" class=\"dataframe\">\n  <thead>\n    <tr style=\"text-align: right;\">\n      <th></th>\n      <th>rural</th>\n      <th>urbana</th>\n      <th>total</th>\n    </tr>\n  </thead>\n  <tbody>\n    <tr>\n      <th>Norte</th>\n      <td>4199945</td>\n      <td>11664509</td>\n      <td>15864454</td>\n    </tr>\n    <tr>\n      <th>Nordeste</th>\n      <td>14260692</td>\n      <td>38821258</td>\n      <td>53081950</td>\n    </tr>\n    <tr>\n      <th>Sudeste</th>\n      <td>5668232</td>\n      <td>74696178</td>\n      <td>80364410</td>\n    </tr>\n    <tr>\n      <th>Sul</th>\n      <td>4125995</td>\n      <td>23260896</td>\n      <td>27386891</td>\n    </tr>\n    <tr>\n      <th>Centro-Oeste</th>\n      <td>1575131</td>\n      <td>12482963</td>\n      <td>14058094</td>\n    </tr>\n  </tbody>\n</table>\n</div>"
     },
     "metadata": {},
     "execution_count": 9
    }
   ],
   "source": [
    "regioes_df"
   ]
  },
  {
   "cell_type": "markdown",
   "metadata": {},
   "source": [
    "# Estados"
   ]
  },
  {
   "cell_type": "code",
   "execution_count": 10,
   "metadata": {},
   "outputs": [],
   "source": [
    "estados_df = pd.DataFrame(index=censo_df[censo_df[\"NN\"] == \"Unidade da Federação\"][\"D1N\"].unique(), columns=[\"rural\", \"urbana\", \"total\"])\n",
    ""
   ]
  },
  {
   "cell_type": "code",
   "execution_count": 11,
   "metadata": {},
   "outputs": [],
   "source": [
    "estados_raw = censo_df[censo_df[\"NN\"] == \"Unidade da Federação\"]"
   ]
  },
  {
   "cell_type": "code",
   "execution_count": 12,
   "metadata": {},
   "outputs": [],
   "source": [
    "estados_df[\"total\"] = estados_raw[estados_raw[\"D4N\"] == \"Total\"][\"V\"].values\n",
    "estados_df[\"rural\"] = estados_raw[estados_raw[\"D4N\"] == \"Rural\"][\"V\"].values\n",
    "estados_df[\"urbana\"] = estados_raw[estados_raw[\"D4N\"] == \"Urbana\"][\"V\"].values"
   ]
  },
  {
   "cell_type": "code",
   "execution_count": 13,
   "metadata": {},
   "outputs": [
    {
     "output_type": "execute_result",
     "data": {
      "text/plain": "                       rural    urbana     total\nRondônia              413229   1149180   1562409\nAcre                  201280    532279    733559\nAmazonas              728495   2755490   3483985\nRoraima               105620    344859    450479\nPará                 2389492   5191559   7581051\nAmapá                  68490    601036    669526\nTocantins             293339   1090106   1383445\nMaranhão             2427640   4147149   6574789\nPiauí                1067401   2050959   3118360\nCeará                2105812   6346569   8452381\nRio Grande do Norte   703036   2464991   3168027\nParaíba               927850   2838678   3766528\nPernambuco           1744238   7052210   8796448\nAlagoas               822634   2297860   3120494\nSergipe               547651   1520366   2068017\nBahia                3914430  10102476  14016906\nMinas Gerais         2882114  16715216  19597330\nEspírito Santo        583480   2931472   3514952\nRio de Janeiro        525690  15464239  15989929\nSão Paulo            1676948  39585251  41262199\nParaná               1531834   8912692  10444526\nSanta Catarina       1000523   5247913   6248436\nRio Grande do Sul    1593638   9100291  10693929\nMato Grosso do Sul    351786   2097238   2449024\nMato Grosso           552321   2482801   3035122\nGoiás                 583074   5420714   6003788\nDistrito Federal       87950   2482210   2570160",
      "text/html": "<div>\n<style scoped>\n    .dataframe tbody tr th:only-of-type {\n        vertical-align: middle;\n    }\n\n    .dataframe tbody tr th {\n        vertical-align: top;\n    }\n\n    .dataframe thead th {\n        text-align: right;\n    }\n</style>\n<table border=\"1\" class=\"dataframe\">\n  <thead>\n    <tr style=\"text-align: right;\">\n      <th></th>\n      <th>rural</th>\n      <th>urbana</th>\n      <th>total</th>\n    </tr>\n  </thead>\n  <tbody>\n    <tr>\n      <th>Rondônia</th>\n      <td>413229</td>\n      <td>1149180</td>\n      <td>1562409</td>\n    </tr>\n    <tr>\n      <th>Acre</th>\n      <td>201280</td>\n      <td>532279</td>\n      <td>733559</td>\n    </tr>\n    <tr>\n      <th>Amazonas</th>\n      <td>728495</td>\n      <td>2755490</td>\n      <td>3483985</td>\n    </tr>\n    <tr>\n      <th>Roraima</th>\n      <td>105620</td>\n      <td>344859</td>\n      <td>450479</td>\n    </tr>\n    <tr>\n      <th>Pará</th>\n      <td>2389492</td>\n      <td>5191559</td>\n      <td>7581051</td>\n    </tr>\n    <tr>\n      <th>Amapá</th>\n      <td>68490</td>\n      <td>601036</td>\n      <td>669526</td>\n    </tr>\n    <tr>\n      <th>Tocantins</th>\n      <td>293339</td>\n      <td>1090106</td>\n      <td>1383445</td>\n    </tr>\n    <tr>\n      <th>Maranhão</th>\n      <td>2427640</td>\n      <td>4147149</td>\n      <td>6574789</td>\n    </tr>\n    <tr>\n      <th>Piauí</th>\n      <td>1067401</td>\n      <td>2050959</td>\n      <td>3118360</td>\n    </tr>\n    <tr>\n      <th>Ceará</th>\n      <td>2105812</td>\n      <td>6346569</td>\n      <td>8452381</td>\n    </tr>\n    <tr>\n      <th>Rio Grande do Norte</th>\n      <td>703036</td>\n      <td>2464991</td>\n      <td>3168027</td>\n    </tr>\n    <tr>\n      <th>Paraíba</th>\n      <td>927850</td>\n      <td>2838678</td>\n      <td>3766528</td>\n    </tr>\n    <tr>\n      <th>Pernambuco</th>\n      <td>1744238</td>\n      <td>7052210</td>\n      <td>8796448</td>\n    </tr>\n    <tr>\n      <th>Alagoas</th>\n      <td>822634</td>\n      <td>2297860</td>\n      <td>3120494</td>\n    </tr>\n    <tr>\n      <th>Sergipe</th>\n      <td>547651</td>\n      <td>1520366</td>\n      <td>2068017</td>\n    </tr>\n    <tr>\n      <th>Bahia</th>\n      <td>3914430</td>\n      <td>10102476</td>\n      <td>14016906</td>\n    </tr>\n    <tr>\n      <th>Minas Gerais</th>\n      <td>2882114</td>\n      <td>16715216</td>\n      <td>19597330</td>\n    </tr>\n    <tr>\n      <th>Espírito Santo</th>\n      <td>583480</td>\n      <td>2931472</td>\n      <td>3514952</td>\n    </tr>\n    <tr>\n      <th>Rio de Janeiro</th>\n      <td>525690</td>\n      <td>15464239</td>\n      <td>15989929</td>\n    </tr>\n    <tr>\n      <th>São Paulo</th>\n      <td>1676948</td>\n      <td>39585251</td>\n      <td>41262199</td>\n    </tr>\n    <tr>\n      <th>Paraná</th>\n      <td>1531834</td>\n      <td>8912692</td>\n      <td>10444526</td>\n    </tr>\n    <tr>\n      <th>Santa Catarina</th>\n      <td>1000523</td>\n      <td>5247913</td>\n      <td>6248436</td>\n    </tr>\n    <tr>\n      <th>Rio Grande do Sul</th>\n      <td>1593638</td>\n      <td>9100291</td>\n      <td>10693929</td>\n    </tr>\n    <tr>\n      <th>Mato Grosso do Sul</th>\n      <td>351786</td>\n      <td>2097238</td>\n      <td>2449024</td>\n    </tr>\n    <tr>\n      <th>Mato Grosso</th>\n      <td>552321</td>\n      <td>2482801</td>\n      <td>3035122</td>\n    </tr>\n    <tr>\n      <th>Goiás</th>\n      <td>583074</td>\n      <td>5420714</td>\n      <td>6003788</td>\n    </tr>\n    <tr>\n      <th>Distrito Federal</th>\n      <td>87950</td>\n      <td>2482210</td>\n      <td>2570160</td>\n    </tr>\n  </tbody>\n</table>\n</div>"
     },
     "metadata": {},
     "execution_count": 13
    }
   ],
   "source": [
    "estados_df"
   ]
  },
  {
   "cell_type": "markdown",
   "metadata": {},
   "source": [
    "# Salvando resultados"
   ]
  },
  {
   "cell_type": "code",
   "execution_count": 15,
   "metadata": {},
   "outputs": [],
   "source": [
    "estados_df.to_excel(\"../../../Sistemas de Apoio a Decisão/dados_trabalho/processados/brasil_demografia_censo2010.xlsx\")"
   ]
  }
 ]
}