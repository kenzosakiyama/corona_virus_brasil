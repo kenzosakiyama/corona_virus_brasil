{
 "cells": [
  {
   "cell_type": "code",
   "execution_count": 1,
   "metadata": {},
   "outputs": [],
   "source": [
    "import pandas as pd"
   ]
  },
  {
   "cell_type": "markdown",
   "metadata": {},
   "source": [
    "# Análise de leitos no Brasil"
   ]
  },
  {
   "cell_type": "code",
   "execution_count": 2,
   "metadata": {},
   "outputs": [],
   "source": [
    "PATH_TO_DATA1 = \"../dados/brutos/total_leitos_por_uf.csv\"\n",
    "PATH_TO_DATA2 = \"../dados/brutos/leitos_sus_por_uf.csv\""
   ]
  },
  {
   "cell_type": "code",
   "execution_count": 3,
   "metadata": {},
   "outputs": [],
   "source": [
    "total_df = pd.read_csv(PATH_TO_DATA1, sep=\";\")\n",
    "sus_df = pd.read_csv(PATH_TO_DATA2, sep=\";\")"
   ]
  },
  {
   "cell_type": "code",
   "execution_count": 4,
   "metadata": {},
   "outputs": [
    {
     "output_type": "execute_result",
     "data": {
      "text/plain": "  Região/Unidade da Federação  Quantidade_SUS\n0                Região Norte           24255\n1                    Rondônia            3360\n2                        Acre            1350\n3                    Amazonas            4899\n4                     Roraima            1064",
      "text/html": "<div>\n<style scoped>\n    .dataframe tbody tr th:only-of-type {\n        vertical-align: middle;\n    }\n\n    .dataframe tbody tr th {\n        vertical-align: top;\n    }\n\n    .dataframe thead th {\n        text-align: right;\n    }\n</style>\n<table border=\"1\" class=\"dataframe\">\n  <thead>\n    <tr style=\"text-align: right;\">\n      <th></th>\n      <th>Região/Unidade da Federação</th>\n      <th>Quantidade_SUS</th>\n    </tr>\n  </thead>\n  <tbody>\n    <tr>\n      <th>0</th>\n      <td>Região Norte</td>\n      <td>24255</td>\n    </tr>\n    <tr>\n      <th>1</th>\n      <td>Rondônia</td>\n      <td>3360</td>\n    </tr>\n    <tr>\n      <th>2</th>\n      <td>Acre</td>\n      <td>1350</td>\n    </tr>\n    <tr>\n      <th>3</th>\n      <td>Amazonas</td>\n      <td>4899</td>\n    </tr>\n    <tr>\n      <th>4</th>\n      <td>Roraima</td>\n      <td>1064</td>\n    </tr>\n  </tbody>\n</table>\n</div>"
     },
     "metadata": {},
     "execution_count": 4
    }
   ],
   "source": [
    "sus_df.head()"
   ]
  },
  {
   "cell_type": "code",
   "execution_count": 5,
   "metadata": {},
   "outputs": [
    {
     "output_type": "execute_result",
     "data": {
      "text/plain": "  Região/Unidade da Federação  Quantidade_existente\n0                Região Norte                 30375\n1                    Rondônia                  4259\n2                        Acre                  1484\n3                    Amazonas                  5684\n4                     Roraima                  1133",
      "text/html": "<div>\n<style scoped>\n    .dataframe tbody tr th:only-of-type {\n        vertical-align: middle;\n    }\n\n    .dataframe tbody tr th {\n        vertical-align: top;\n    }\n\n    .dataframe thead th {\n        text-align: right;\n    }\n</style>\n<table border=\"1\" class=\"dataframe\">\n  <thead>\n    <tr style=\"text-align: right;\">\n      <th></th>\n      <th>Região/Unidade da Federação</th>\n      <th>Quantidade_existente</th>\n    </tr>\n  </thead>\n  <tbody>\n    <tr>\n      <th>0</th>\n      <td>Região Norte</td>\n      <td>30375</td>\n    </tr>\n    <tr>\n      <th>1</th>\n      <td>Rondônia</td>\n      <td>4259</td>\n    </tr>\n    <tr>\n      <th>2</th>\n      <td>Acre</td>\n      <td>1484</td>\n    </tr>\n    <tr>\n      <th>3</th>\n      <td>Amazonas</td>\n      <td>5684</td>\n    </tr>\n    <tr>\n      <th>4</th>\n      <td>Roraima</td>\n      <td>1133</td>\n    </tr>\n  </tbody>\n</table>\n</div>"
     },
     "metadata": {},
     "execution_count": 5
    }
   ],
   "source": [
    "total_df.head()"
   ]
  },
  {
   "cell_type": "code",
   "execution_count": 6,
   "metadata": {},
   "outputs": [],
   "source": [
    "sus_df.set_index('Região/Unidade da Federação', inplace=True)\n",
    "total_df.set_index('Região/Unidade da Federação', inplace=True)"
   ]
  },
  {
   "cell_type": "code",
   "execution_count": 7,
   "metadata": {},
   "outputs": [],
   "source": [
    "leitos_df = sus_df.join(total_df)"
   ]
  },
  {
   "cell_type": "code",
   "execution_count": 8,
   "metadata": {},
   "outputs": [
    {
     "output_type": "execute_result",
     "data": {
      "text/plain": "                             Quantidade_SUS  Quantidade_existente\nRegião/Unidade da Federação                                      \nRegião Norte                          24255                 30375\nRondônia                               3360                  4259\nAcre                                   1350                  1484\nAmazonas                               4899                  5684\nRoraima                                1064                  1133\nPará                                  10347                 13670\nAmapá                                   947                  1092\nTocantins                              2288                  3053\nRegião Nordeste                       91176                114102\nMaranhão                              12201                 13768\nPiauí                                  6470                  7463\nCeará                                 14352                 18503\nRio Grande do Norte                    5980                  7191\nParaíba                                6457                  8182\nPernambuco                            15699                 20917\nAlagoas                                4740                  5881\nSergipe                                2380                  3236\nBahia                                 22897                 28961\nRegião Sudeste                       105706                171834\nMinas Gerais                          26943                 40946\nEspírito Santo                         5101                  7930\nRio de Janeiro                        21011                 32456\nSão Paulo                             52651                 90502\nRegião Sul                            49706                 72786\nParaná                                18482                 27397\nSanta Catarina                        10920                 15296\nRio Grande do Sul                     20304                 30093\nRegião Centro-Oeste                   23437                 46161\nMato Grosso do Sul                     3681                  5611\nMato Grosso                            5125                  7181\nGoiás                                 10584                 17502\nDistrito Federal                       4047                 15867",
      "text/html": "<div>\n<style scoped>\n    .dataframe tbody tr th:only-of-type {\n        vertical-align: middle;\n    }\n\n    .dataframe tbody tr th {\n        vertical-align: top;\n    }\n\n    .dataframe thead th {\n        text-align: right;\n    }\n</style>\n<table border=\"1\" class=\"dataframe\">\n  <thead>\n    <tr style=\"text-align: right;\">\n      <th></th>\n      <th>Quantidade_SUS</th>\n      <th>Quantidade_existente</th>\n    </tr>\n    <tr>\n      <th>Região/Unidade da Federação</th>\n      <th></th>\n      <th></th>\n    </tr>\n  </thead>\n  <tbody>\n    <tr>\n      <th>Região Norte</th>\n      <td>24255</td>\n      <td>30375</td>\n    </tr>\n    <tr>\n      <th>Rondônia</th>\n      <td>3360</td>\n      <td>4259</td>\n    </tr>\n    <tr>\n      <th>Acre</th>\n      <td>1350</td>\n      <td>1484</td>\n    </tr>\n    <tr>\n      <th>Amazonas</th>\n      <td>4899</td>\n      <td>5684</td>\n    </tr>\n    <tr>\n      <th>Roraima</th>\n      <td>1064</td>\n      <td>1133</td>\n    </tr>\n    <tr>\n      <th>Pará</th>\n      <td>10347</td>\n      <td>13670</td>\n    </tr>\n    <tr>\n      <th>Amapá</th>\n      <td>947</td>\n      <td>1092</td>\n    </tr>\n    <tr>\n      <th>Tocantins</th>\n      <td>2288</td>\n      <td>3053</td>\n    </tr>\n    <tr>\n      <th>Região Nordeste</th>\n      <td>91176</td>\n      <td>114102</td>\n    </tr>\n    <tr>\n      <th>Maranhão</th>\n      <td>12201</td>\n      <td>13768</td>\n    </tr>\n    <tr>\n      <th>Piauí</th>\n      <td>6470</td>\n      <td>7463</td>\n    </tr>\n    <tr>\n      <th>Ceará</th>\n      <td>14352</td>\n      <td>18503</td>\n    </tr>\n    <tr>\n      <th>Rio Grande do Norte</th>\n      <td>5980</td>\n      <td>7191</td>\n    </tr>\n    <tr>\n      <th>Paraíba</th>\n      <td>6457</td>\n      <td>8182</td>\n    </tr>\n    <tr>\n      <th>Pernambuco</th>\n      <td>15699</td>\n      <td>20917</td>\n    </tr>\n    <tr>\n      <th>Alagoas</th>\n      <td>4740</td>\n      <td>5881</td>\n    </tr>\n    <tr>\n      <th>Sergipe</th>\n      <td>2380</td>\n      <td>3236</td>\n    </tr>\n    <tr>\n      <th>Bahia</th>\n      <td>22897</td>\n      <td>28961</td>\n    </tr>\n    <tr>\n      <th>Região Sudeste</th>\n      <td>105706</td>\n      <td>171834</td>\n    </tr>\n    <tr>\n      <th>Minas Gerais</th>\n      <td>26943</td>\n      <td>40946</td>\n    </tr>\n    <tr>\n      <th>Espírito Santo</th>\n      <td>5101</td>\n      <td>7930</td>\n    </tr>\n    <tr>\n      <th>Rio de Janeiro</th>\n      <td>21011</td>\n      <td>32456</td>\n    </tr>\n    <tr>\n      <th>São Paulo</th>\n      <td>52651</td>\n      <td>90502</td>\n    </tr>\n    <tr>\n      <th>Região Sul</th>\n      <td>49706</td>\n      <td>72786</td>\n    </tr>\n    <tr>\n      <th>Paraná</th>\n      <td>18482</td>\n      <td>27397</td>\n    </tr>\n    <tr>\n      <th>Santa Catarina</th>\n      <td>10920</td>\n      <td>15296</td>\n    </tr>\n    <tr>\n      <th>Rio Grande do Sul</th>\n      <td>20304</td>\n      <td>30093</td>\n    </tr>\n    <tr>\n      <th>Região Centro-Oeste</th>\n      <td>23437</td>\n      <td>46161</td>\n    </tr>\n    <tr>\n      <th>Mato Grosso do Sul</th>\n      <td>3681</td>\n      <td>5611</td>\n    </tr>\n    <tr>\n      <th>Mato Grosso</th>\n      <td>5125</td>\n      <td>7181</td>\n    </tr>\n    <tr>\n      <th>Goiás</th>\n      <td>10584</td>\n      <td>17502</td>\n    </tr>\n    <tr>\n      <th>Distrito Federal</th>\n      <td>4047</td>\n      <td>15867</td>\n    </tr>\n  </tbody>\n</table>\n</div>"
     },
     "metadata": {},
     "execution_count": 8
    }
   ],
   "source": [
    "leitos_df"
   ]
  },
  {
   "cell_type": "code",
   "execution_count": 9,
   "metadata": {},
   "outputs": [],
   "source": [
    "# Separando região e UF\n",
    "leitos_df[\"Unidade\"] = \"UF\"\n",
    "for index in leitos_df.index:\n",
    "    if \"Região\" in index:\n",
    "        leitos_df[\"Unidade\"].loc[index] = \"Região\""
   ]
  },
  {
   "cell_type": "code",
   "execution_count": 10,
   "metadata": {},
   "outputs": [
    {
     "output_type": "execute_result",
     "data": {
      "text/plain": "                             Quantidade_SUS  Quantidade_existente Unidade\nRegião/Unidade da Federação                                              \nRegião Norte                          24255                 30375  Região\nRondônia                               3360                  4259      UF\nAcre                                   1350                  1484      UF\nAmazonas                               4899                  5684      UF\nRoraima                                1064                  1133      UF\nPará                                  10347                 13670      UF\nAmapá                                   947                  1092      UF\nTocantins                              2288                  3053      UF\nRegião Nordeste                       91176                114102  Região\nMaranhão                              12201                 13768      UF\nPiauí                                  6470                  7463      UF\nCeará                                 14352                 18503      UF\nRio Grande do Norte                    5980                  7191      UF\nParaíba                                6457                  8182      UF\nPernambuco                            15699                 20917      UF\nAlagoas                                4740                  5881      UF\nSergipe                                2380                  3236      UF\nBahia                                 22897                 28961      UF\nRegião Sudeste                       105706                171834  Região\nMinas Gerais                          26943                 40946      UF\nEspírito Santo                         5101                  7930      UF\nRio de Janeiro                        21011                 32456      UF\nSão Paulo                             52651                 90502      UF\nRegião Sul                            49706                 72786  Região\nParaná                                18482                 27397      UF\nSanta Catarina                        10920                 15296      UF\nRio Grande do Sul                     20304                 30093      UF\nRegião Centro-Oeste                   23437                 46161  Região\nMato Grosso do Sul                     3681                  5611      UF\nMato Grosso                            5125                  7181      UF\nGoiás                                 10584                 17502      UF\nDistrito Federal                       4047                 15867      UF",
      "text/html": "<div>\n<style scoped>\n    .dataframe tbody tr th:only-of-type {\n        vertical-align: middle;\n    }\n\n    .dataframe tbody tr th {\n        vertical-align: top;\n    }\n\n    .dataframe thead th {\n        text-align: right;\n    }\n</style>\n<table border=\"1\" class=\"dataframe\">\n  <thead>\n    <tr style=\"text-align: right;\">\n      <th></th>\n      <th>Quantidade_SUS</th>\n      <th>Quantidade_existente</th>\n      <th>Unidade</th>\n    </tr>\n    <tr>\n      <th>Região/Unidade da Federação</th>\n      <th></th>\n      <th></th>\n      <th></th>\n    </tr>\n  </thead>\n  <tbody>\n    <tr>\n      <th>Região Norte</th>\n      <td>24255</td>\n      <td>30375</td>\n      <td>Região</td>\n    </tr>\n    <tr>\n      <th>Rondônia</th>\n      <td>3360</td>\n      <td>4259</td>\n      <td>UF</td>\n    </tr>\n    <tr>\n      <th>Acre</th>\n      <td>1350</td>\n      <td>1484</td>\n      <td>UF</td>\n    </tr>\n    <tr>\n      <th>Amazonas</th>\n      <td>4899</td>\n      <td>5684</td>\n      <td>UF</td>\n    </tr>\n    <tr>\n      <th>Roraima</th>\n      <td>1064</td>\n      <td>1133</td>\n      <td>UF</td>\n    </tr>\n    <tr>\n      <th>Pará</th>\n      <td>10347</td>\n      <td>13670</td>\n      <td>UF</td>\n    </tr>\n    <tr>\n      <th>Amapá</th>\n      <td>947</td>\n      <td>1092</td>\n      <td>UF</td>\n    </tr>\n    <tr>\n      <th>Tocantins</th>\n      <td>2288</td>\n      <td>3053</td>\n      <td>UF</td>\n    </tr>\n    <tr>\n      <th>Região Nordeste</th>\n      <td>91176</td>\n      <td>114102</td>\n      <td>Região</td>\n    </tr>\n    <tr>\n      <th>Maranhão</th>\n      <td>12201</td>\n      <td>13768</td>\n      <td>UF</td>\n    </tr>\n    <tr>\n      <th>Piauí</th>\n      <td>6470</td>\n      <td>7463</td>\n      <td>UF</td>\n    </tr>\n    <tr>\n      <th>Ceará</th>\n      <td>14352</td>\n      <td>18503</td>\n      <td>UF</td>\n    </tr>\n    <tr>\n      <th>Rio Grande do Norte</th>\n      <td>5980</td>\n      <td>7191</td>\n      <td>UF</td>\n    </tr>\n    <tr>\n      <th>Paraíba</th>\n      <td>6457</td>\n      <td>8182</td>\n      <td>UF</td>\n    </tr>\n    <tr>\n      <th>Pernambuco</th>\n      <td>15699</td>\n      <td>20917</td>\n      <td>UF</td>\n    </tr>\n    <tr>\n      <th>Alagoas</th>\n      <td>4740</td>\n      <td>5881</td>\n      <td>UF</td>\n    </tr>\n    <tr>\n      <th>Sergipe</th>\n      <td>2380</td>\n      <td>3236</td>\n      <td>UF</td>\n    </tr>\n    <tr>\n      <th>Bahia</th>\n      <td>22897</td>\n      <td>28961</td>\n      <td>UF</td>\n    </tr>\n    <tr>\n      <th>Região Sudeste</th>\n      <td>105706</td>\n      <td>171834</td>\n      <td>Região</td>\n    </tr>\n    <tr>\n      <th>Minas Gerais</th>\n      <td>26943</td>\n      <td>40946</td>\n      <td>UF</td>\n    </tr>\n    <tr>\n      <th>Espírito Santo</th>\n      <td>5101</td>\n      <td>7930</td>\n      <td>UF</td>\n    </tr>\n    <tr>\n      <th>Rio de Janeiro</th>\n      <td>21011</td>\n      <td>32456</td>\n      <td>UF</td>\n    </tr>\n    <tr>\n      <th>São Paulo</th>\n      <td>52651</td>\n      <td>90502</td>\n      <td>UF</td>\n    </tr>\n    <tr>\n      <th>Região Sul</th>\n      <td>49706</td>\n      <td>72786</td>\n      <td>Região</td>\n    </tr>\n    <tr>\n      <th>Paraná</th>\n      <td>18482</td>\n      <td>27397</td>\n      <td>UF</td>\n    </tr>\n    <tr>\n      <th>Santa Catarina</th>\n      <td>10920</td>\n      <td>15296</td>\n      <td>UF</td>\n    </tr>\n    <tr>\n      <th>Rio Grande do Sul</th>\n      <td>20304</td>\n      <td>30093</td>\n      <td>UF</td>\n    </tr>\n    <tr>\n      <th>Região Centro-Oeste</th>\n      <td>23437</td>\n      <td>46161</td>\n      <td>Região</td>\n    </tr>\n    <tr>\n      <th>Mato Grosso do Sul</th>\n      <td>3681</td>\n      <td>5611</td>\n      <td>UF</td>\n    </tr>\n    <tr>\n      <th>Mato Grosso</th>\n      <td>5125</td>\n      <td>7181</td>\n      <td>UF</td>\n    </tr>\n    <tr>\n      <th>Goiás</th>\n      <td>10584</td>\n      <td>17502</td>\n      <td>UF</td>\n    </tr>\n    <tr>\n      <th>Distrito Federal</th>\n      <td>4047</td>\n      <td>15867</td>\n      <td>UF</td>\n    </tr>\n  </tbody>\n</table>\n</div>"
     },
     "metadata": {},
     "execution_count": 10
    }
   ],
   "source": [
    "leitos_df"
   ]
  },
  {
   "cell_type": "code",
   "execution_count": 11,
   "metadata": {},
   "outputs": [],
   "source": [
    "leitos_estado_df = leitos_df[leitos_df[\"Unidade\"] == \"UF\"].drop(columns=[\"Unidade\"])\n",
    "leitos_regiao_df = leitos_df[leitos_df[\"Unidade\"] == \"Região\"].drop(columns=[\"Unidade\"])"
   ]
  },
  {
   "cell_type": "code",
   "execution_count": 12,
   "metadata": {},
   "outputs": [
    {
     "output_type": "execute_result",
     "data": {
      "text/plain": "                             Quantidade_SUS  Quantidade_existente\nRegião/Unidade da Federação                                      \nRondônia                               3360                  4259\nAcre                                   1350                  1484\nAmazonas                               4899                  5684\nRoraima                                1064                  1133\nPará                                  10347                 13670\nAmapá                                   947                  1092\nTocantins                              2288                  3053\nMaranhão                              12201                 13768\nPiauí                                  6470                  7463\nCeará                                 14352                 18503\nRio Grande do Norte                    5980                  7191\nParaíba                                6457                  8182\nPernambuco                            15699                 20917\nAlagoas                                4740                  5881\nSergipe                                2380                  3236\nBahia                                 22897                 28961\nMinas Gerais                          26943                 40946\nEspírito Santo                         5101                  7930\nRio de Janeiro                        21011                 32456\nSão Paulo                             52651                 90502\nParaná                                18482                 27397\nSanta Catarina                        10920                 15296\nRio Grande do Sul                     20304                 30093\nMato Grosso do Sul                     3681                  5611\nMato Grosso                            5125                  7181\nGoiás                                 10584                 17502\nDistrito Federal                       4047                 15867",
      "text/html": "<div>\n<style scoped>\n    .dataframe tbody tr th:only-of-type {\n        vertical-align: middle;\n    }\n\n    .dataframe tbody tr th {\n        vertical-align: top;\n    }\n\n    .dataframe thead th {\n        text-align: right;\n    }\n</style>\n<table border=\"1\" class=\"dataframe\">\n  <thead>\n    <tr style=\"text-align: right;\">\n      <th></th>\n      <th>Quantidade_SUS</th>\n      <th>Quantidade_existente</th>\n    </tr>\n    <tr>\n      <th>Região/Unidade da Federação</th>\n      <th></th>\n      <th></th>\n    </tr>\n  </thead>\n  <tbody>\n    <tr>\n      <th>Rondônia</th>\n      <td>3360</td>\n      <td>4259</td>\n    </tr>\n    <tr>\n      <th>Acre</th>\n      <td>1350</td>\n      <td>1484</td>\n    </tr>\n    <tr>\n      <th>Amazonas</th>\n      <td>4899</td>\n      <td>5684</td>\n    </tr>\n    <tr>\n      <th>Roraima</th>\n      <td>1064</td>\n      <td>1133</td>\n    </tr>\n    <tr>\n      <th>Pará</th>\n      <td>10347</td>\n      <td>13670</td>\n    </tr>\n    <tr>\n      <th>Amapá</th>\n      <td>947</td>\n      <td>1092</td>\n    </tr>\n    <tr>\n      <th>Tocantins</th>\n      <td>2288</td>\n      <td>3053</td>\n    </tr>\n    <tr>\n      <th>Maranhão</th>\n      <td>12201</td>\n      <td>13768</td>\n    </tr>\n    <tr>\n      <th>Piauí</th>\n      <td>6470</td>\n      <td>7463</td>\n    </tr>\n    <tr>\n      <th>Ceará</th>\n      <td>14352</td>\n      <td>18503</td>\n    </tr>\n    <tr>\n      <th>Rio Grande do Norte</th>\n      <td>5980</td>\n      <td>7191</td>\n    </tr>\n    <tr>\n      <th>Paraíba</th>\n      <td>6457</td>\n      <td>8182</td>\n    </tr>\n    <tr>\n      <th>Pernambuco</th>\n      <td>15699</td>\n      <td>20917</td>\n    </tr>\n    <tr>\n      <th>Alagoas</th>\n      <td>4740</td>\n      <td>5881</td>\n    </tr>\n    <tr>\n      <th>Sergipe</th>\n      <td>2380</td>\n      <td>3236</td>\n    </tr>\n    <tr>\n      <th>Bahia</th>\n      <td>22897</td>\n      <td>28961</td>\n    </tr>\n    <tr>\n      <th>Minas Gerais</th>\n      <td>26943</td>\n      <td>40946</td>\n    </tr>\n    <tr>\n      <th>Espírito Santo</th>\n      <td>5101</td>\n      <td>7930</td>\n    </tr>\n    <tr>\n      <th>Rio de Janeiro</th>\n      <td>21011</td>\n      <td>32456</td>\n    </tr>\n    <tr>\n      <th>São Paulo</th>\n      <td>52651</td>\n      <td>90502</td>\n    </tr>\n    <tr>\n      <th>Paraná</th>\n      <td>18482</td>\n      <td>27397</td>\n    </tr>\n    <tr>\n      <th>Santa Catarina</th>\n      <td>10920</td>\n      <td>15296</td>\n    </tr>\n    <tr>\n      <th>Rio Grande do Sul</th>\n      <td>20304</td>\n      <td>30093</td>\n    </tr>\n    <tr>\n      <th>Mato Grosso do Sul</th>\n      <td>3681</td>\n      <td>5611</td>\n    </tr>\n    <tr>\n      <th>Mato Grosso</th>\n      <td>5125</td>\n      <td>7181</td>\n    </tr>\n    <tr>\n      <th>Goiás</th>\n      <td>10584</td>\n      <td>17502</td>\n    </tr>\n    <tr>\n      <th>Distrito Federal</th>\n      <td>4047</td>\n      <td>15867</td>\n    </tr>\n  </tbody>\n</table>\n</div>"
     },
     "metadata": {},
     "execution_count": 12
    }
   ],
   "source": [
    "leitos_estado_df"
   ]
  },
  {
   "cell_type": "code",
   "execution_count": 13,
   "metadata": {},
   "outputs": [
    {
     "output_type": "execute_result",
     "data": {
      "text/plain": "                             Quantidade_SUS  Quantidade_existente\nRegião/Unidade da Federação                                      \nRegião Norte                          24255                 30375\nRegião Nordeste                       91176                114102\nRegião Sudeste                       105706                171834\nRegião Sul                            49706                 72786\nRegião Centro-Oeste                   23437                 46161",
      "text/html": "<div>\n<style scoped>\n    .dataframe tbody tr th:only-of-type {\n        vertical-align: middle;\n    }\n\n    .dataframe tbody tr th {\n        vertical-align: top;\n    }\n\n    .dataframe thead th {\n        text-align: right;\n    }\n</style>\n<table border=\"1\" class=\"dataframe\">\n  <thead>\n    <tr style=\"text-align: right;\">\n      <th></th>\n      <th>Quantidade_SUS</th>\n      <th>Quantidade_existente</th>\n    </tr>\n    <tr>\n      <th>Região/Unidade da Federação</th>\n      <th></th>\n      <th></th>\n    </tr>\n  </thead>\n  <tbody>\n    <tr>\n      <th>Região Norte</th>\n      <td>24255</td>\n      <td>30375</td>\n    </tr>\n    <tr>\n      <th>Região Nordeste</th>\n      <td>91176</td>\n      <td>114102</td>\n    </tr>\n    <tr>\n      <th>Região Sudeste</th>\n      <td>105706</td>\n      <td>171834</td>\n    </tr>\n    <tr>\n      <th>Região Sul</th>\n      <td>49706</td>\n      <td>72786</td>\n    </tr>\n    <tr>\n      <th>Região Centro-Oeste</th>\n      <td>23437</td>\n      <td>46161</td>\n    </tr>\n  </tbody>\n</table>\n</div>"
     },
     "metadata": {},
     "execution_count": 13
    }
   ],
   "source": [
    "leitos_regiao_df"
   ]
  },
  {
   "cell_type": "code",
   "execution_count": 14,
   "metadata": {},
   "outputs": [],
   "source": [
    "# Salvando arquivos\n",
    "leitos_estado_df.to_excel(\"../dados/processados/leitos_por_estado_jan20.xlsx\")\n",
    "leitos_regiao_df.to_excel(\"../dados/processados/leitos_por_regiao_jan20.xlsx\")"
   ]
  },
  {
   "cell_type": "markdown",
   "metadata": {},
   "source": [
    "# Análise de unidades básicas de saúde (UBS)"
   ]
  },
  {
   "cell_type": "code",
   "execution_count": 17,
   "metadata": {},
   "outputs": [],
   "source": [
    "PATH_TO_DATA3  = \"../dados/brutos/ubs_funcionamentonone.csv.csv\""
   ]
  },
  {
   "cell_type": "code",
   "execution_count": 18,
   "metadata": {},
   "outputs": [],
   "source": [
    "ubs_df = pd.read_csv(PATH_TO_DATA3)"
   ]
  },
  {
   "cell_type": "code",
   "execution_count": 19,
   "metadata": {},
   "outputs": [],
   "source": [
    "ubs_df.drop(columns=[\"gid\", \"co_cnes\", \"lat\", \"long\", \"no_fantasia\", \"nu_endereco\", \"no_bairro\", \"no_logradouro\", \"co_cep\", \"nu_telefone\", \"cidade\"], inplace=True)"
   ]
  },
  {
   "cell_type": "code",
   "execution_count": 20,
   "metadata": {},
   "outputs": [
    {
     "output_type": "execute_result",
     "data": {
      "text/plain": "       uf  ano_ubs_det  mes_ubs_det\n0      MG         2016            5\n1      PR         2016            5\n2      CE         2016            5\n3      BA         2016            5\n4      PB         2016            5\n...    ..          ...          ...\n40607  MG         2016            5\n40608  SP         2016            5\n40609  SP         2016            5\n40610  MT         2016            5\n40611  PI         2016            5\n\n[40612 rows x 3 columns]",
      "text/html": "<div>\n<style scoped>\n    .dataframe tbody tr th:only-of-type {\n        vertical-align: middle;\n    }\n\n    .dataframe tbody tr th {\n        vertical-align: top;\n    }\n\n    .dataframe thead th {\n        text-align: right;\n    }\n</style>\n<table border=\"1\" class=\"dataframe\">\n  <thead>\n    <tr style=\"text-align: right;\">\n      <th></th>\n      <th>uf</th>\n      <th>ano_ubs_det</th>\n      <th>mes_ubs_det</th>\n    </tr>\n  </thead>\n  <tbody>\n    <tr>\n      <th>0</th>\n      <td>MG</td>\n      <td>2016</td>\n      <td>5</td>\n    </tr>\n    <tr>\n      <th>1</th>\n      <td>PR</td>\n      <td>2016</td>\n      <td>5</td>\n    </tr>\n    <tr>\n      <th>2</th>\n      <td>CE</td>\n      <td>2016</td>\n      <td>5</td>\n    </tr>\n    <tr>\n      <th>3</th>\n      <td>BA</td>\n      <td>2016</td>\n      <td>5</td>\n    </tr>\n    <tr>\n      <th>4</th>\n      <td>PB</td>\n      <td>2016</td>\n      <td>5</td>\n    </tr>\n    <tr>\n      <th>...</th>\n      <td>...</td>\n      <td>...</td>\n      <td>...</td>\n    </tr>\n    <tr>\n      <th>40607</th>\n      <td>MG</td>\n      <td>2016</td>\n      <td>5</td>\n    </tr>\n    <tr>\n      <th>40608</th>\n      <td>SP</td>\n      <td>2016</td>\n      <td>5</td>\n    </tr>\n    <tr>\n      <th>40609</th>\n      <td>SP</td>\n      <td>2016</td>\n      <td>5</td>\n    </tr>\n    <tr>\n      <th>40610</th>\n      <td>MT</td>\n      <td>2016</td>\n      <td>5</td>\n    </tr>\n    <tr>\n      <th>40611</th>\n      <td>PI</td>\n      <td>2016</td>\n      <td>5</td>\n    </tr>\n  </tbody>\n</table>\n<p>40612 rows × 3 columns</p>\n</div>"
     },
     "metadata": {},
     "execution_count": 20
    }
   ],
   "source": [
    "ubs_df"
   ]
  },
  {
   "cell_type": "code",
   "execution_count": 21,
   "metadata": {},
   "outputs": [
    {
     "output_type": "execute_result",
     "data": {
      "text/plain": "    ano_ubs_det  mes_ubs_det\nuf                          \nAC          245          245\nAL          907          907\nAM          622          622\nAP          140          140\nBA         3684         3684\nCE         2126         2126\nDF          149          149\nES          819          819\nGO         1307         1307\nMA         1948         1948\nMG         5118         5118\nMS          602          602\nMT          814          814\nPA         1779         1779\nPB         1385         1385\nPE         2400         2400\nPI         1251         1251\nPR         2310         2310\nRJ         1880         1880\nRN         1060         1060\nRO          283          283\nRR          137          137\nRS         2297         2297\nSC         1704         1704\nSE          498          498\nSP         4769         4769\nTO          378          378",
      "text/html": "<div>\n<style scoped>\n    .dataframe tbody tr th:only-of-type {\n        vertical-align: middle;\n    }\n\n    .dataframe tbody tr th {\n        vertical-align: top;\n    }\n\n    .dataframe thead th {\n        text-align: right;\n    }\n</style>\n<table border=\"1\" class=\"dataframe\">\n  <thead>\n    <tr style=\"text-align: right;\">\n      <th></th>\n      <th>ano_ubs_det</th>\n      <th>mes_ubs_det</th>\n    </tr>\n    <tr>\n      <th>uf</th>\n      <th></th>\n      <th></th>\n    </tr>\n  </thead>\n  <tbody>\n    <tr>\n      <th>AC</th>\n      <td>245</td>\n      <td>245</td>\n    </tr>\n    <tr>\n      <th>AL</th>\n      <td>907</td>\n      <td>907</td>\n    </tr>\n    <tr>\n      <th>AM</th>\n      <td>622</td>\n      <td>622</td>\n    </tr>\n    <tr>\n      <th>AP</th>\n      <td>140</td>\n      <td>140</td>\n    </tr>\n    <tr>\n      <th>BA</th>\n      <td>3684</td>\n      <td>3684</td>\n    </tr>\n    <tr>\n      <th>CE</th>\n      <td>2126</td>\n      <td>2126</td>\n    </tr>\n    <tr>\n      <th>DF</th>\n      <td>149</td>\n      <td>149</td>\n    </tr>\n    <tr>\n      <th>ES</th>\n      <td>819</td>\n      <td>819</td>\n    </tr>\n    <tr>\n      <th>GO</th>\n      <td>1307</td>\n      <td>1307</td>\n    </tr>\n    <tr>\n      <th>MA</th>\n      <td>1948</td>\n      <td>1948</td>\n    </tr>\n    <tr>\n      <th>MG</th>\n      <td>5118</td>\n      <td>5118</td>\n    </tr>\n    <tr>\n      <th>MS</th>\n      <td>602</td>\n      <td>602</td>\n    </tr>\n    <tr>\n      <th>MT</th>\n      <td>814</td>\n      <td>814</td>\n    </tr>\n    <tr>\n      <th>PA</th>\n      <td>1779</td>\n      <td>1779</td>\n    </tr>\n    <tr>\n      <th>PB</th>\n      <td>1385</td>\n      <td>1385</td>\n    </tr>\n    <tr>\n      <th>PE</th>\n      <td>2400</td>\n      <td>2400</td>\n    </tr>\n    <tr>\n      <th>PI</th>\n      <td>1251</td>\n      <td>1251</td>\n    </tr>\n    <tr>\n      <th>PR</th>\n      <td>2310</td>\n      <td>2310</td>\n    </tr>\n    <tr>\n      <th>RJ</th>\n      <td>1880</td>\n      <td>1880</td>\n    </tr>\n    <tr>\n      <th>RN</th>\n      <td>1060</td>\n      <td>1060</td>\n    </tr>\n    <tr>\n      <th>RO</th>\n      <td>283</td>\n      <td>283</td>\n    </tr>\n    <tr>\n      <th>RR</th>\n      <td>137</td>\n      <td>137</td>\n    </tr>\n    <tr>\n      <th>RS</th>\n      <td>2297</td>\n      <td>2297</td>\n    </tr>\n    <tr>\n      <th>SC</th>\n      <td>1704</td>\n      <td>1704</td>\n    </tr>\n    <tr>\n      <th>SE</th>\n      <td>498</td>\n      <td>498</td>\n    </tr>\n    <tr>\n      <th>SP</th>\n      <td>4769</td>\n      <td>4769</td>\n    </tr>\n    <tr>\n      <th>TO</th>\n      <td>378</td>\n      <td>378</td>\n    </tr>\n  </tbody>\n</table>\n</div>"
     },
     "metadata": {},
     "execution_count": 21
    }
   ],
   "source": [
    "ubs_df.groupby(\"uf\").count()"
   ]
  },
  {
   "cell_type": "code",
   "execution_count": null,
   "metadata": {},
   "outputs": [],
   "source": []
  }
 ],
 "metadata": {
  "language_info": {
   "codemirror_mode": {
    "name": "ipython",
    "version": 3
   },
   "file_extension": ".py",
   "mimetype": "text/x-python",
   "name": "python",
   "nbconvert_exporter": "python",
   "pygments_lexer": "ipython3",
   "version": "3.7.7-final"
  },
  "orig_nbformat": 2,
  "kernelspec": {
   "name": "python37764bit8cae92954396406fae214d2a45a235d9",
   "display_name": "Python 3.7.7 64-bit"
  }
 },
 "nbformat": 4,
 "nbformat_minor": 2
}