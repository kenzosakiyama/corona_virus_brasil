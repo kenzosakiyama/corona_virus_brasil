{
 "cells": [
  {
   "cell_type": "code",
   "execution_count": 1,
   "metadata": {},
   "outputs": [],
   "source": [
    "import pandas as pd"
   ]
  },
  {
   "cell_type": "code",
   "execution_count": 2,
   "metadata": {},
   "outputs": [],
   "source": [
    "PATH_TO_DATA = \"../dados/brutos/estados_atlas2013_dadosbrutos_pt.xlsx\""
   ]
  },
  {
   "cell_type": "code",
   "execution_count": 3,
   "metadata": {},
   "outputs": [],
   "source": [
    "data_df = pd.read_excel(PATH_TO_DATA)"
   ]
  },
  {
   "cell_type": "code",
   "execution_count": 4,
   "metadata": {},
   "outputs": [],
   "source": [
    "data_df.drop([\"Unnamed: 0\"], axis=1, inplace=True)"
   ]
  },
  {
   "cell_type": "code",
   "execution_count": 5,
   "metadata": {},
   "outputs": [
    {
     "output_type": "execute_result",
     "data": {
      "text/plain": "['UFN',\n 'ESPVIDA',\n 'FECTOT',\n 'MORT1',\n 'MORT5',\n 'RAZDEP',\n 'SOBRE40',\n 'SOBRE60',\n 'T_ENV',\n 'E_ANOSESTUDO',\n 'T_ANALF11A14',\n 'T_ANALF15A17',\n 'T_ANALF15M',\n 'T_ANALF18A24',\n 'T_ANALF18M',\n 'T_ANALF25A29',\n 'T_ANALF25M',\n 'T_ATRASO_0_BASICO',\n 'T_ATRASO_0_FUND',\n 'T_ATRASO_0_MED',\n 'T_ATRASO_1_BASICO',\n 'T_ATRASO_1_FUND',\n 'T_ATRASO_1_MED',\n 'T_ATRASO_2_BASICO',\n 'T_ATRASO_2_FUND',\n 'T_ATRASO_2_MED',\n 'T_FBBAS',\n 'T_FBFUND',\n 'T_FBMED',\n 'T_FBPRE',\n 'T_FBSUPER',\n 'T_FLBAS',\n 'T_FLFUND',\n 'T_FLMED',\n 'T_FLPRE',\n 'T_FLSUPER',\n 'T_FREQ0A3',\n 'T_FREQ11A14',\n 'T_FREQ15A17',\n 'T_FREQ18A24',\n 'T_FREQ25A29',\n 'T_FREQ4A5',\n 'T_FREQ4A6',\n 'T_FREQ5A6',\n 'T_FREQ6',\n 'T_FREQ6A14',\n 'T_FREQ6A17',\n 'T_FREQFUND1517',\n 'T_FREQFUND1824',\n 'T_FREQFUND45',\n 'T_FREQMED1824',\n 'T_FREQMED614',\n 'T_FREQSUPER1517',\n 'T_FUND11A13',\n 'T_FUND12A14',\n 'T_FUND15A17',\n 'T_FUND16A18',\n 'T_FUND18A24',\n 'T_FUND18M',\n 'T_FUND25M',\n 'T_MED18A20',\n 'T_MED18A24',\n 'T_MED18M',\n 'T_MED19A21',\n 'T_MED25M',\n 'T_SUPER25M',\n 'CORTE1',\n 'CORTE2',\n 'CORTE3',\n 'CORTE4',\n 'CORTE9',\n 'GINI',\n 'PIND',\n 'PINDCRI',\n 'PMPOB',\n 'PMPOBCRI',\n 'PPOB',\n 'PPOBCRI',\n 'PREN10RICOS',\n 'PREN20',\n 'PREN20RICOS',\n 'PREN40',\n 'PREN60',\n 'PREN80',\n 'PRENTRAB',\n 'R1040',\n 'R2040',\n 'RDPC',\n 'RDPC1',\n 'RDPC10',\n 'RDPC2',\n 'RDPC3',\n 'RDPC4',\n 'RDPC5',\n 'RDPCT',\n 'RIND',\n 'RMPOB',\n 'RPOB',\n 'THEIL',\n 'CPR',\n 'EMP',\n 'P_AGRO',\n 'P_COM',\n 'P_CONSTR',\n 'P_EXTR',\n 'P_FORMAL',\n 'P_FUND',\n 'P_MED',\n 'P_SERV',\n 'P_SIUP',\n 'P_SUPER',\n 'P_TRANSF',\n 'REN0',\n 'REN1',\n 'REN2',\n 'REN3',\n 'REN5',\n 'RENOCUP',\n 'T_ATIV',\n 'T_ATIV1014',\n 'T_ATIV1517',\n 'T_ATIV1824',\n 'T_ATIV18M',\n 'T_ATIV2529',\n 'T_DES',\n 'T_DES1014',\n 'T_DES1517',\n 'T_DES1824',\n 'T_DES18M',\n 'T_DES2529',\n 'THEILtrab',\n 'TRABCC',\n 'TRABPUB',\n 'TRABSC',\n 'T_AGUA',\n 'T_BANAGUA',\n 'T_DENS',\n 'T_LIXO',\n 'T_LUZ',\n 'AGUA_ESGOTO',\n 'PAREDE',\n 'T_CRIFUNDIN_TODOS',\n 'T_FORA4A5',\n 'T_FORA6A14',\n 'T_FUNDIN_TODOS',\n 'T_FUNDIN_TODOS_MMEIO',\n 'T_FUNDIN18MINF',\n 'T_M10A14CF',\n 'T_M15A17CF',\n 'T_MULCHEFEFIF014',\n 'T_NESTUDA_NTRAB_MMEIO',\n 'T_OCUPDESLOC_1',\n 'T_RMAXIDOSO',\n 'T_SLUZ',\n 'HOMEM0A4',\n 'HOMEM10A14',\n 'HOMEM15A19',\n 'HOMEM20A24',\n 'HOMEM25A29',\n 'HOMEM30A34',\n 'HOMEM35A39',\n 'HOMEM40A44',\n 'HOMEM45A49',\n 'HOMEM50A54',\n 'HOMEM55A59',\n 'HOMEM5A9',\n 'HOMEM60A64',\n 'HOMEM65A69',\n 'HOMEM70A74',\n 'HOMEM75A79',\n 'HOMEMTOT',\n 'HOMENS80',\n 'MULH0A4',\n 'MULH10A14',\n 'MULH15A19',\n 'MULH20A24',\n 'MULH25A29',\n 'MULH30A34',\n 'MULH35A39',\n 'MULH40A44',\n 'MULH45A49',\n 'MULH50A54',\n 'MULH55A59',\n 'MULH5A9',\n 'MULH60A64',\n 'MULH65A69',\n 'MULH70A74',\n 'MULH75A79',\n 'MULHER80',\n 'MULHERTOT',\n 'PEA',\n 'PEA1014',\n 'PEA1517',\n 'PEA18M',\n 'peso1',\n 'PESO1114',\n 'PESO1113',\n 'PESO1214',\n 'peso13',\n 'PESO15',\n 'peso1517',\n 'PESO1524',\n 'PESO1618',\n 'PESO18',\n 'Peso1820',\n 'PESO1824',\n 'Peso1921',\n 'PESO25',\n 'peso4',\n 'peso5',\n 'peso6',\n 'PESO610',\n 'Peso617',\n 'PESO65',\n 'PESOM1014',\n 'PESOM1517',\n 'PESOM15M',\n 'PESOM25M',\n 'pesoRUR',\n 'pesotot',\n 'pesourb',\n 'PIA',\n 'PIA1014',\n 'PIA1517',\n 'PIA18M',\n 'POP',\n 'POPT',\n 'I_ESCOLARIDADE',\n 'I_FREQ_PROP',\n 'IDHM',\n 'IDHM_E',\n 'IDHM_L',\n 'IDHM_R']"
     },
     "metadata": {},
     "execution_count": 5
    }
   ],
   "source": [
    "data_df.columns.to_list()"
   ]
  },
  {
   "cell_type": "markdown",
   "metadata": {},
   "source": [
    "# Estados "
   ]
  },
  {
   "cell_type": "code",
   "execution_count": 6,
   "metadata": {},
   "outputs": [
    {
     "output_type": "execute_result",
     "data": {
      "text/plain": "                    UFN  ESPVIDA  FECTOT  MORT1  MORT5  RAZDEP  SOBRE40  \\\n0              Rondônia    72.97    2.16  18.02  19.34   46.74    95.80   \n1                  Acre    71.63    2.95  23.01  24.93   61.34    94.62   \n2              Amazonas    73.30    2.59  17.01  18.22   59.33    96.03   \n3               Roraima    73.51    2.41  16.11  17.23   57.50    96.24   \n4                  Pará    72.36    2.50  20.29  21.87   55.83    95.26   \n5                 Amapá    73.80    2.48  15.14  16.16   57.67    96.47   \n6             Tocantins    72.56    2.41  19.56  21.05   52.90    95.43   \n7              Maranhão    70.40    2.56  28.03  30.61   58.65    93.45   \n8                 Piauí    71.62    1.99  23.05  24.98   51.70    94.61   \n9                 Ceará    72.60    1.99  19.29  20.76   50.32    95.50   \n10  Rio Grande do Norte    72.52    1.98  19.70  21.21   48.03    95.40   \n11              Paraíba    72.00    1.95  21.67  23.42   51.14    94.94   \n12           Pernambuco    72.32    1.92  20.43  22.03   49.34    95.23   \n13              Alagoas    70.32    2.22  28.40  31.03   54.30    93.36   \n14              Sergipe    71.84    1.95  22.22  24.04   49.34    94.81   \n15                Bahia    71.97    2.05  21.73  23.49   48.92    94.92   \n16         Minas Gerais    75.30    1.79  15.08  17.30   44.01    93.77   \n17       Espírito Santo    75.10    1.80  14.15  16.33   43.26    92.57   \n18       Rio de Janeiro    75.10    1.68  14.15  16.33   43.07    92.57   \n19            São Paulo    75.69    1.66  13.86  15.85   41.53    94.80   \n20               Paraná    74.80    1.86  13.08  15.07   43.78    93.64   \n21       Santa Catarina    76.61    1.71  11.54  13.38   40.34    94.98   \n22    Rio Grande do Sul    75.38    1.76  12.38  14.29   43.18    94.43   \n23   Mato Grosso do Sul    74.96    2.04  18.14  21.47   46.22    93.21   \n24          Mato Grosso    74.25    2.08  16.80  20.28   44.56    92.82   \n25                Goiás    74.60    1.87  13.96  16.28   43.41    93.33   \n26     Distrito Federal    77.35    1.75  14.01  15.85   40.14    94.57   \n\n    SOBRE60  T_ENV  E_ANOSESTUDO  ...  PIA1517    PIA18M       POP      POPT  \\\n0     86.77   4.69          9.20  ...    95920   1042760   1547341   1515025   \n1     84.53   4.32          8.69  ...    48412    437790    728620    690774   \n2     87.24   4.03          8.54  ...   227553   2100087   3460784   3301221   \n3     87.67   3.45          8.69  ...    29123    272223    445981    421159   \n4     85.74   4.75          8.49  ...   486649   4739298   7524487   7247979   \n5     88.14   3.44          9.44  ...    45288    402583    664167    652768   \n6     86.08   5.82          9.80  ...    85736    899735   1373823   1349770   \n7     82.45   6.02          9.26  ...   414954   4124450   6547083   6317987   \n8     84.51   7.44          9.23  ...   184255   2104268   3102747   3050838   \n9     86.20   7.54          9.82  ...   524991   5738848   8403301   8317604   \n10    86.02   7.54          9.54  ...   184517   2198161   3151549   3127820   \n11    85.12   8.53          9.24  ...   215244   2597404   3744722   3706991   \n12    85.68   7.37          9.13  ...   494130   6044442   8744596   8646409   \n13    82.31   6.01          9.07  ...   194319   2015524   3092407   3045851   \n14    84.88   6.14          9.01  ...   125881   1385926   2054725   2038459   \n15    85.09   7.23          8.63  ...   818228   9606320  13933018  13755200   \n16    82.95   8.12          9.38  ...  1043929  14159445  19471105  19383604   \n17    82.28   7.08          9.36  ...   181921   2521554   3492253   3477472   \n18    82.28   8.91          9.17  ...   771099  11831965  15895915  15871448   \n19    84.30   7.82         10.33  ...  1989525  30408172  40944103  40915382   \n20    83.48   7.53         10.43  ...   566147   7487040  10379795  10348243   \n21    85.72   6.89         10.24  ...   326770   4558556   6211299   6199948   \n22    84.16   9.26         10.00  ...   531136   7934902  10618321  10593366   \n23    83.02   6.62         10.08  ...   139678   1697957   2420666   2404628   \n24    82.21   5.12          9.29  ...   173724   2082429   3008271   2961977   \n25    82.69   6.25          9.72  ...   323865   4237518   5962442   5934767   \n26    86.19   4.97          9.87  ...   130872   1830940   2543802   2541714   \n\n    I_ESCOLARIDADE  I_FREQ_PROP   IDHM  IDHM_E  IDHM_L  IDHM_R  \n0            0.480        0.633  0.690   0.577   0.800   0.712  \n1            0.488        0.599  0.663   0.559   0.777   0.671  \n2            0.549        0.567  0.674   0.561   0.805   0.677  \n3            0.587        0.650  0.707   0.628   0.809   0.695  \n4            0.474        0.557  0.646   0.528   0.789   0.646  \n5            0.618        0.634  0.708   0.629   0.813   0.694  \n6            0.526        0.680  0.699   0.624   0.793   0.690  \n7            0.444        0.632  0.639   0.562   0.757   0.612  \n8            0.418        0.625  0.646   0.547   0.777   0.635  \n9            0.488        0.691  0.682   0.615   0.793   0.651  \n10           0.486        0.661  0.684   0.597   0.792   0.678  \n11           0.426        0.634  0.658   0.555   0.783   0.656  \n12           0.470        0.635  0.673   0.574   0.789   0.673  \n13           0.406        0.589  0.631   0.520   0.755   0.641  \n14           0.469        0.612  0.665   0.560   0.781   0.672  \n15           0.461        0.609  0.660   0.555   0.783   0.663  \n16           0.514        0.710  0.731   0.638   0.838   0.730  \n17           0.552        0.711  0.740   0.653   0.835   0.743  \n18           0.647        0.689  0.761   0.675   0.835   0.782  \n19           0.629        0.768  0.783   0.719   0.845   0.789  \n20           0.555        0.733  0.749   0.668   0.830   0.757  \n21           0.589        0.759  0.774   0.697   0.860   0.773  \n22           0.563        0.686  0.746   0.642   0.840   0.769  \n23           0.536        0.682  0.729   0.629   0.833   0.740  \n24           0.532        0.693  0.725   0.635   0.821   0.732  \n25           0.550        0.700  0.735   0.646   0.827   0.742  \n26           0.723        0.751  0.824   0.742   0.873   0.863  \n\n[27 rows x 233 columns]",
      "text/html": "<div>\n<style scoped>\n    .dataframe tbody tr th:only-of-type {\n        vertical-align: middle;\n    }\n\n    .dataframe tbody tr th {\n        vertical-align: top;\n    }\n\n    .dataframe thead th {\n        text-align: right;\n    }\n</style>\n<table border=\"1\" class=\"dataframe\">\n  <thead>\n    <tr style=\"text-align: right;\">\n      <th></th>\n      <th>UFN</th>\n      <th>ESPVIDA</th>\n      <th>FECTOT</th>\n      <th>MORT1</th>\n      <th>MORT5</th>\n      <th>RAZDEP</th>\n      <th>SOBRE40</th>\n      <th>SOBRE60</th>\n      <th>T_ENV</th>\n      <th>E_ANOSESTUDO</th>\n      <th>...</th>\n      <th>PIA1517</th>\n      <th>PIA18M</th>\n      <th>POP</th>\n      <th>POPT</th>\n      <th>I_ESCOLARIDADE</th>\n      <th>I_FREQ_PROP</th>\n      <th>IDHM</th>\n      <th>IDHM_E</th>\n      <th>IDHM_L</th>\n      <th>IDHM_R</th>\n    </tr>\n  </thead>\n  <tbody>\n    <tr>\n      <th>0</th>\n      <td>Rondônia</td>\n      <td>72.97</td>\n      <td>2.16</td>\n      <td>18.02</td>\n      <td>19.34</td>\n      <td>46.74</td>\n      <td>95.80</td>\n      <td>86.77</td>\n      <td>4.69</td>\n      <td>9.20</td>\n      <td>...</td>\n      <td>95920</td>\n      <td>1042760</td>\n      <td>1547341</td>\n      <td>1515025</td>\n      <td>0.480</td>\n      <td>0.633</td>\n      <td>0.690</td>\n      <td>0.577</td>\n      <td>0.800</td>\n      <td>0.712</td>\n    </tr>\n    <tr>\n      <th>1</th>\n      <td>Acre</td>\n      <td>71.63</td>\n      <td>2.95</td>\n      <td>23.01</td>\n      <td>24.93</td>\n      <td>61.34</td>\n      <td>94.62</td>\n      <td>84.53</td>\n      <td>4.32</td>\n      <td>8.69</td>\n      <td>...</td>\n      <td>48412</td>\n      <td>437790</td>\n      <td>728620</td>\n      <td>690774</td>\n      <td>0.488</td>\n      <td>0.599</td>\n      <td>0.663</td>\n      <td>0.559</td>\n      <td>0.777</td>\n      <td>0.671</td>\n    </tr>\n    <tr>\n      <th>2</th>\n      <td>Amazonas</td>\n      <td>73.30</td>\n      <td>2.59</td>\n      <td>17.01</td>\n      <td>18.22</td>\n      <td>59.33</td>\n      <td>96.03</td>\n      <td>87.24</td>\n      <td>4.03</td>\n      <td>8.54</td>\n      <td>...</td>\n      <td>227553</td>\n      <td>2100087</td>\n      <td>3460784</td>\n      <td>3301221</td>\n      <td>0.549</td>\n      <td>0.567</td>\n      <td>0.674</td>\n      <td>0.561</td>\n      <td>0.805</td>\n      <td>0.677</td>\n    </tr>\n    <tr>\n      <th>3</th>\n      <td>Roraima</td>\n      <td>73.51</td>\n      <td>2.41</td>\n      <td>16.11</td>\n      <td>17.23</td>\n      <td>57.50</td>\n      <td>96.24</td>\n      <td>87.67</td>\n      <td>3.45</td>\n      <td>8.69</td>\n      <td>...</td>\n      <td>29123</td>\n      <td>272223</td>\n      <td>445981</td>\n      <td>421159</td>\n      <td>0.587</td>\n      <td>0.650</td>\n      <td>0.707</td>\n      <td>0.628</td>\n      <td>0.809</td>\n      <td>0.695</td>\n    </tr>\n    <tr>\n      <th>4</th>\n      <td>Pará</td>\n      <td>72.36</td>\n      <td>2.50</td>\n      <td>20.29</td>\n      <td>21.87</td>\n      <td>55.83</td>\n      <td>95.26</td>\n      <td>85.74</td>\n      <td>4.75</td>\n      <td>8.49</td>\n      <td>...</td>\n      <td>486649</td>\n      <td>4739298</td>\n      <td>7524487</td>\n      <td>7247979</td>\n      <td>0.474</td>\n      <td>0.557</td>\n      <td>0.646</td>\n      <td>0.528</td>\n      <td>0.789</td>\n      <td>0.646</td>\n    </tr>\n    <tr>\n      <th>5</th>\n      <td>Amapá</td>\n      <td>73.80</td>\n      <td>2.48</td>\n      <td>15.14</td>\n      <td>16.16</td>\n      <td>57.67</td>\n      <td>96.47</td>\n      <td>88.14</td>\n      <td>3.44</td>\n      <td>9.44</td>\n      <td>...</td>\n      <td>45288</td>\n      <td>402583</td>\n      <td>664167</td>\n      <td>652768</td>\n      <td>0.618</td>\n      <td>0.634</td>\n      <td>0.708</td>\n      <td>0.629</td>\n      <td>0.813</td>\n      <td>0.694</td>\n    </tr>\n    <tr>\n      <th>6</th>\n      <td>Tocantins</td>\n      <td>72.56</td>\n      <td>2.41</td>\n      <td>19.56</td>\n      <td>21.05</td>\n      <td>52.90</td>\n      <td>95.43</td>\n      <td>86.08</td>\n      <td>5.82</td>\n      <td>9.80</td>\n      <td>...</td>\n      <td>85736</td>\n      <td>899735</td>\n      <td>1373823</td>\n      <td>1349770</td>\n      <td>0.526</td>\n      <td>0.680</td>\n      <td>0.699</td>\n      <td>0.624</td>\n      <td>0.793</td>\n      <td>0.690</td>\n    </tr>\n    <tr>\n      <th>7</th>\n      <td>Maranhão</td>\n      <td>70.40</td>\n      <td>2.56</td>\n      <td>28.03</td>\n      <td>30.61</td>\n      <td>58.65</td>\n      <td>93.45</td>\n      <td>82.45</td>\n      <td>6.02</td>\n      <td>9.26</td>\n      <td>...</td>\n      <td>414954</td>\n      <td>4124450</td>\n      <td>6547083</td>\n      <td>6317987</td>\n      <td>0.444</td>\n      <td>0.632</td>\n      <td>0.639</td>\n      <td>0.562</td>\n      <td>0.757</td>\n      <td>0.612</td>\n    </tr>\n    <tr>\n      <th>8</th>\n      <td>Piauí</td>\n      <td>71.62</td>\n      <td>1.99</td>\n      <td>23.05</td>\n      <td>24.98</td>\n      <td>51.70</td>\n      <td>94.61</td>\n      <td>84.51</td>\n      <td>7.44</td>\n      <td>9.23</td>\n      <td>...</td>\n      <td>184255</td>\n      <td>2104268</td>\n      <td>3102747</td>\n      <td>3050838</td>\n      <td>0.418</td>\n      <td>0.625</td>\n      <td>0.646</td>\n      <td>0.547</td>\n      <td>0.777</td>\n      <td>0.635</td>\n    </tr>\n    <tr>\n      <th>9</th>\n      <td>Ceará</td>\n      <td>72.60</td>\n      <td>1.99</td>\n      <td>19.29</td>\n      <td>20.76</td>\n      <td>50.32</td>\n      <td>95.50</td>\n      <td>86.20</td>\n      <td>7.54</td>\n      <td>9.82</td>\n      <td>...</td>\n      <td>524991</td>\n      <td>5738848</td>\n      <td>8403301</td>\n      <td>8317604</td>\n      <td>0.488</td>\n      <td>0.691</td>\n      <td>0.682</td>\n      <td>0.615</td>\n      <td>0.793</td>\n      <td>0.651</td>\n    </tr>\n    <tr>\n      <th>10</th>\n      <td>Rio Grande do Norte</td>\n      <td>72.52</td>\n      <td>1.98</td>\n      <td>19.70</td>\n      <td>21.21</td>\n      <td>48.03</td>\n      <td>95.40</td>\n      <td>86.02</td>\n      <td>7.54</td>\n      <td>9.54</td>\n      <td>...</td>\n      <td>184517</td>\n      <td>2198161</td>\n      <td>3151549</td>\n      <td>3127820</td>\n      <td>0.486</td>\n      <td>0.661</td>\n      <td>0.684</td>\n      <td>0.597</td>\n      <td>0.792</td>\n      <td>0.678</td>\n    </tr>\n    <tr>\n      <th>11</th>\n      <td>Paraíba</td>\n      <td>72.00</td>\n      <td>1.95</td>\n      <td>21.67</td>\n      <td>23.42</td>\n      <td>51.14</td>\n      <td>94.94</td>\n      <td>85.12</td>\n      <td>8.53</td>\n      <td>9.24</td>\n      <td>...</td>\n      <td>215244</td>\n      <td>2597404</td>\n      <td>3744722</td>\n      <td>3706991</td>\n      <td>0.426</td>\n      <td>0.634</td>\n      <td>0.658</td>\n      <td>0.555</td>\n      <td>0.783</td>\n      <td>0.656</td>\n    </tr>\n    <tr>\n      <th>12</th>\n      <td>Pernambuco</td>\n      <td>72.32</td>\n      <td>1.92</td>\n      <td>20.43</td>\n      <td>22.03</td>\n      <td>49.34</td>\n      <td>95.23</td>\n      <td>85.68</td>\n      <td>7.37</td>\n      <td>9.13</td>\n      <td>...</td>\n      <td>494130</td>\n      <td>6044442</td>\n      <td>8744596</td>\n      <td>8646409</td>\n      <td>0.470</td>\n      <td>0.635</td>\n      <td>0.673</td>\n      <td>0.574</td>\n      <td>0.789</td>\n      <td>0.673</td>\n    </tr>\n    <tr>\n      <th>13</th>\n      <td>Alagoas</td>\n      <td>70.32</td>\n      <td>2.22</td>\n      <td>28.40</td>\n      <td>31.03</td>\n      <td>54.30</td>\n      <td>93.36</td>\n      <td>82.31</td>\n      <td>6.01</td>\n      <td>9.07</td>\n      <td>...</td>\n      <td>194319</td>\n      <td>2015524</td>\n      <td>3092407</td>\n      <td>3045851</td>\n      <td>0.406</td>\n      <td>0.589</td>\n      <td>0.631</td>\n      <td>0.520</td>\n      <td>0.755</td>\n      <td>0.641</td>\n    </tr>\n    <tr>\n      <th>14</th>\n      <td>Sergipe</td>\n      <td>71.84</td>\n      <td>1.95</td>\n      <td>22.22</td>\n      <td>24.04</td>\n      <td>49.34</td>\n      <td>94.81</td>\n      <td>84.88</td>\n      <td>6.14</td>\n      <td>9.01</td>\n      <td>...</td>\n      <td>125881</td>\n      <td>1385926</td>\n      <td>2054725</td>\n      <td>2038459</td>\n      <td>0.469</td>\n      <td>0.612</td>\n      <td>0.665</td>\n      <td>0.560</td>\n      <td>0.781</td>\n      <td>0.672</td>\n    </tr>\n    <tr>\n      <th>15</th>\n      <td>Bahia</td>\n      <td>71.97</td>\n      <td>2.05</td>\n      <td>21.73</td>\n      <td>23.49</td>\n      <td>48.92</td>\n      <td>94.92</td>\n      <td>85.09</td>\n      <td>7.23</td>\n      <td>8.63</td>\n      <td>...</td>\n      <td>818228</td>\n      <td>9606320</td>\n      <td>13933018</td>\n      <td>13755200</td>\n      <td>0.461</td>\n      <td>0.609</td>\n      <td>0.660</td>\n      <td>0.555</td>\n      <td>0.783</td>\n      <td>0.663</td>\n    </tr>\n    <tr>\n      <th>16</th>\n      <td>Minas Gerais</td>\n      <td>75.30</td>\n      <td>1.79</td>\n      <td>15.08</td>\n      <td>17.30</td>\n      <td>44.01</td>\n      <td>93.77</td>\n      <td>82.95</td>\n      <td>8.12</td>\n      <td>9.38</td>\n      <td>...</td>\n      <td>1043929</td>\n      <td>14159445</td>\n      <td>19471105</td>\n      <td>19383604</td>\n      <td>0.514</td>\n      <td>0.710</td>\n      <td>0.731</td>\n      <td>0.638</td>\n      <td>0.838</td>\n      <td>0.730</td>\n    </tr>\n    <tr>\n      <th>17</th>\n      <td>Espírito Santo</td>\n      <td>75.10</td>\n      <td>1.80</td>\n      <td>14.15</td>\n      <td>16.33</td>\n      <td>43.26</td>\n      <td>92.57</td>\n      <td>82.28</td>\n      <td>7.08</td>\n      <td>9.36</td>\n      <td>...</td>\n      <td>181921</td>\n      <td>2521554</td>\n      <td>3492253</td>\n      <td>3477472</td>\n      <td>0.552</td>\n      <td>0.711</td>\n      <td>0.740</td>\n      <td>0.653</td>\n      <td>0.835</td>\n      <td>0.743</td>\n    </tr>\n    <tr>\n      <th>18</th>\n      <td>Rio de Janeiro</td>\n      <td>75.10</td>\n      <td>1.68</td>\n      <td>14.15</td>\n      <td>16.33</td>\n      <td>43.07</td>\n      <td>92.57</td>\n      <td>82.28</td>\n      <td>8.91</td>\n      <td>9.17</td>\n      <td>...</td>\n      <td>771099</td>\n      <td>11831965</td>\n      <td>15895915</td>\n      <td>15871448</td>\n      <td>0.647</td>\n      <td>0.689</td>\n      <td>0.761</td>\n      <td>0.675</td>\n      <td>0.835</td>\n      <td>0.782</td>\n    </tr>\n    <tr>\n      <th>19</th>\n      <td>São Paulo</td>\n      <td>75.69</td>\n      <td>1.66</td>\n      <td>13.86</td>\n      <td>15.85</td>\n      <td>41.53</td>\n      <td>94.80</td>\n      <td>84.30</td>\n      <td>7.82</td>\n      <td>10.33</td>\n      <td>...</td>\n      <td>1989525</td>\n      <td>30408172</td>\n      <td>40944103</td>\n      <td>40915382</td>\n      <td>0.629</td>\n      <td>0.768</td>\n      <td>0.783</td>\n      <td>0.719</td>\n      <td>0.845</td>\n      <td>0.789</td>\n    </tr>\n    <tr>\n      <th>20</th>\n      <td>Paraná</td>\n      <td>74.80</td>\n      <td>1.86</td>\n      <td>13.08</td>\n      <td>15.07</td>\n      <td>43.78</td>\n      <td>93.64</td>\n      <td>83.48</td>\n      <td>7.53</td>\n      <td>10.43</td>\n      <td>...</td>\n      <td>566147</td>\n      <td>7487040</td>\n      <td>10379795</td>\n      <td>10348243</td>\n      <td>0.555</td>\n      <td>0.733</td>\n      <td>0.749</td>\n      <td>0.668</td>\n      <td>0.830</td>\n      <td>0.757</td>\n    </tr>\n    <tr>\n      <th>21</th>\n      <td>Santa Catarina</td>\n      <td>76.61</td>\n      <td>1.71</td>\n      <td>11.54</td>\n      <td>13.38</td>\n      <td>40.34</td>\n      <td>94.98</td>\n      <td>85.72</td>\n      <td>6.89</td>\n      <td>10.24</td>\n      <td>...</td>\n      <td>326770</td>\n      <td>4558556</td>\n      <td>6211299</td>\n      <td>6199948</td>\n      <td>0.589</td>\n      <td>0.759</td>\n      <td>0.774</td>\n      <td>0.697</td>\n      <td>0.860</td>\n      <td>0.773</td>\n    </tr>\n    <tr>\n      <th>22</th>\n      <td>Rio Grande do Sul</td>\n      <td>75.38</td>\n      <td>1.76</td>\n      <td>12.38</td>\n      <td>14.29</td>\n      <td>43.18</td>\n      <td>94.43</td>\n      <td>84.16</td>\n      <td>9.26</td>\n      <td>10.00</td>\n      <td>...</td>\n      <td>531136</td>\n      <td>7934902</td>\n      <td>10618321</td>\n      <td>10593366</td>\n      <td>0.563</td>\n      <td>0.686</td>\n      <td>0.746</td>\n      <td>0.642</td>\n      <td>0.840</td>\n      <td>0.769</td>\n    </tr>\n    <tr>\n      <th>23</th>\n      <td>Mato Grosso do Sul</td>\n      <td>74.96</td>\n      <td>2.04</td>\n      <td>18.14</td>\n      <td>21.47</td>\n      <td>46.22</td>\n      <td>93.21</td>\n      <td>83.02</td>\n      <td>6.62</td>\n      <td>10.08</td>\n      <td>...</td>\n      <td>139678</td>\n      <td>1697957</td>\n      <td>2420666</td>\n      <td>2404628</td>\n      <td>0.536</td>\n      <td>0.682</td>\n      <td>0.729</td>\n      <td>0.629</td>\n      <td>0.833</td>\n      <td>0.740</td>\n    </tr>\n    <tr>\n      <th>24</th>\n      <td>Mato Grosso</td>\n      <td>74.25</td>\n      <td>2.08</td>\n      <td>16.80</td>\n      <td>20.28</td>\n      <td>44.56</td>\n      <td>92.82</td>\n      <td>82.21</td>\n      <td>5.12</td>\n      <td>9.29</td>\n      <td>...</td>\n      <td>173724</td>\n      <td>2082429</td>\n      <td>3008271</td>\n      <td>2961977</td>\n      <td>0.532</td>\n      <td>0.693</td>\n      <td>0.725</td>\n      <td>0.635</td>\n      <td>0.821</td>\n      <td>0.732</td>\n    </tr>\n    <tr>\n      <th>25</th>\n      <td>Goiás</td>\n      <td>74.60</td>\n      <td>1.87</td>\n      <td>13.96</td>\n      <td>16.28</td>\n      <td>43.41</td>\n      <td>93.33</td>\n      <td>82.69</td>\n      <td>6.25</td>\n      <td>9.72</td>\n      <td>...</td>\n      <td>323865</td>\n      <td>4237518</td>\n      <td>5962442</td>\n      <td>5934767</td>\n      <td>0.550</td>\n      <td>0.700</td>\n      <td>0.735</td>\n      <td>0.646</td>\n      <td>0.827</td>\n      <td>0.742</td>\n    </tr>\n    <tr>\n      <th>26</th>\n      <td>Distrito Federal</td>\n      <td>77.35</td>\n      <td>1.75</td>\n      <td>14.01</td>\n      <td>15.85</td>\n      <td>40.14</td>\n      <td>94.57</td>\n      <td>86.19</td>\n      <td>4.97</td>\n      <td>9.87</td>\n      <td>...</td>\n      <td>130872</td>\n      <td>1830940</td>\n      <td>2543802</td>\n      <td>2541714</td>\n      <td>0.723</td>\n      <td>0.751</td>\n      <td>0.824</td>\n      <td>0.742</td>\n      <td>0.873</td>\n      <td>0.863</td>\n    </tr>\n  </tbody>\n</table>\n<p>27 rows × 233 columns</p>\n</div>"
     },
     "metadata": {},
     "execution_count": 6
    }
   ],
   "source": [
    "data_df"
   ]
  },
  {
   "cell_type": "markdown",
   "metadata": {},
   "source": [
    "# Regiões"
   ]
  },
  {
   "cell_type": "code",
   "execution_count": 7,
   "metadata": {},
   "outputs": [],
   "source": [
    "regioes = {\n",
    "  \"Norte\": [\"Amazonas\", \"Roraima\", \"Amapá\", \"Pará\", \"Tocantins\", \"Rondônia\", \"Acre\"],\n",
    "  \"Nordeste\": [\"Maranhão\", \"Piauí\", \"Ceará\", \"Rio Grande do Norte\", \"Pernambuco\", \"Paraíba\", \"Sergipe\", \"Alagoas\", \"Bahia\"], \n",
    "  \"Centro-Oeste\": [\"Mato Grosso\", \"Mato Grosso do Sul\", \"Goiás\"],\n",
    "  \"Sudeste\": [\"São Paulo\", \"Rio de Janeiro\", \"Espírito Santo\", \"Minas Gerais\"],\n",
    "  \"Sul\": [\"Paraná\", \"Rio Grande do Sul\", \"Santa Catarina\"],\n",
    "  \"DF\": [\"Distrito Federal\"]\n",
    "}"
   ]
  },
  {
   "cell_type": "code",
   "execution_count": 8,
   "metadata": {},
   "outputs": [],
   "source": [
    "regioes_df = pd.DataFrame(index=list(regioes.keys()), columns=data_df.columns)\n",
    "regioes_df.drop(\"UFN\", axis=1, inplace=True)"
   ]
  },
  {
   "cell_type": "code",
   "execution_count": 9,
   "metadata": {},
   "outputs": [
    {
     "output_type": "execute_result",
     "data": {
      "text/plain": "             ESPVIDA FECTOT MORT1 MORT5 RAZDEP SOBRE40 SOBRE60 T_ENV  \\\nNorte            NaN    NaN   NaN   NaN    NaN     NaN     NaN   NaN   \nNordeste         NaN    NaN   NaN   NaN    NaN     NaN     NaN   NaN   \nCentro-Oeste     NaN    NaN   NaN   NaN    NaN     NaN     NaN   NaN   \nSudeste          NaN    NaN   NaN   NaN    NaN     NaN     NaN   NaN   \nSul              NaN    NaN   NaN   NaN    NaN     NaN     NaN   NaN   \nDF               NaN    NaN   NaN   NaN    NaN     NaN     NaN   NaN   \n\n             E_ANOSESTUDO T_ANALF11A14  ... PIA1517 PIA18M  POP POPT  \\\nNorte                 NaN          NaN  ...     NaN    NaN  NaN  NaN   \nNordeste              NaN          NaN  ...     NaN    NaN  NaN  NaN   \nCentro-Oeste          NaN          NaN  ...     NaN    NaN  NaN  NaN   \nSudeste               NaN          NaN  ...     NaN    NaN  NaN  NaN   \nSul                   NaN          NaN  ...     NaN    NaN  NaN  NaN   \nDF                    NaN          NaN  ...     NaN    NaN  NaN  NaN   \n\n             I_ESCOLARIDADE I_FREQ_PROP IDHM IDHM_E IDHM_L IDHM_R  \nNorte                   NaN         NaN  NaN    NaN    NaN    NaN  \nNordeste                NaN         NaN  NaN    NaN    NaN    NaN  \nCentro-Oeste            NaN         NaN  NaN    NaN    NaN    NaN  \nSudeste                 NaN         NaN  NaN    NaN    NaN    NaN  \nSul                     NaN         NaN  NaN    NaN    NaN    NaN  \nDF                      NaN         NaN  NaN    NaN    NaN    NaN  \n\n[6 rows x 232 columns]",
      "text/html": "<div>\n<style scoped>\n    .dataframe tbody tr th:only-of-type {\n        vertical-align: middle;\n    }\n\n    .dataframe tbody tr th {\n        vertical-align: top;\n    }\n\n    .dataframe thead th {\n        text-align: right;\n    }\n</style>\n<table border=\"1\" class=\"dataframe\">\n  <thead>\n    <tr style=\"text-align: right;\">\n      <th></th>\n      <th>ESPVIDA</th>\n      <th>FECTOT</th>\n      <th>MORT1</th>\n      <th>MORT5</th>\n      <th>RAZDEP</th>\n      <th>SOBRE40</th>\n      <th>SOBRE60</th>\n      <th>T_ENV</th>\n      <th>E_ANOSESTUDO</th>\n      <th>T_ANALF11A14</th>\n      <th>...</th>\n      <th>PIA1517</th>\n      <th>PIA18M</th>\n      <th>POP</th>\n      <th>POPT</th>\n      <th>I_ESCOLARIDADE</th>\n      <th>I_FREQ_PROP</th>\n      <th>IDHM</th>\n      <th>IDHM_E</th>\n      <th>IDHM_L</th>\n      <th>IDHM_R</th>\n    </tr>\n  </thead>\n  <tbody>\n    <tr>\n      <th>Norte</th>\n      <td>NaN</td>\n      <td>NaN</td>\n      <td>NaN</td>\n      <td>NaN</td>\n      <td>NaN</td>\n      <td>NaN</td>\n      <td>NaN</td>\n      <td>NaN</td>\n      <td>NaN</td>\n      <td>NaN</td>\n      <td>...</td>\n      <td>NaN</td>\n      <td>NaN</td>\n      <td>NaN</td>\n      <td>NaN</td>\n      <td>NaN</td>\n      <td>NaN</td>\n      <td>NaN</td>\n      <td>NaN</td>\n      <td>NaN</td>\n      <td>NaN</td>\n    </tr>\n    <tr>\n      <th>Nordeste</th>\n      <td>NaN</td>\n      <td>NaN</td>\n      <td>NaN</td>\n      <td>NaN</td>\n      <td>NaN</td>\n      <td>NaN</td>\n      <td>NaN</td>\n      <td>NaN</td>\n      <td>NaN</td>\n      <td>NaN</td>\n      <td>...</td>\n      <td>NaN</td>\n      <td>NaN</td>\n      <td>NaN</td>\n      <td>NaN</td>\n      <td>NaN</td>\n      <td>NaN</td>\n      <td>NaN</td>\n      <td>NaN</td>\n      <td>NaN</td>\n      <td>NaN</td>\n    </tr>\n    <tr>\n      <th>Centro-Oeste</th>\n      <td>NaN</td>\n      <td>NaN</td>\n      <td>NaN</td>\n      <td>NaN</td>\n      <td>NaN</td>\n      <td>NaN</td>\n      <td>NaN</td>\n      <td>NaN</td>\n      <td>NaN</td>\n      <td>NaN</td>\n      <td>...</td>\n      <td>NaN</td>\n      <td>NaN</td>\n      <td>NaN</td>\n      <td>NaN</td>\n      <td>NaN</td>\n      <td>NaN</td>\n      <td>NaN</td>\n      <td>NaN</td>\n      <td>NaN</td>\n      <td>NaN</td>\n    </tr>\n    <tr>\n      <th>Sudeste</th>\n      <td>NaN</td>\n      <td>NaN</td>\n      <td>NaN</td>\n      <td>NaN</td>\n      <td>NaN</td>\n      <td>NaN</td>\n      <td>NaN</td>\n      <td>NaN</td>\n      <td>NaN</td>\n      <td>NaN</td>\n      <td>...</td>\n      <td>NaN</td>\n      <td>NaN</td>\n      <td>NaN</td>\n      <td>NaN</td>\n      <td>NaN</td>\n      <td>NaN</td>\n      <td>NaN</td>\n      <td>NaN</td>\n      <td>NaN</td>\n      <td>NaN</td>\n    </tr>\n    <tr>\n      <th>Sul</th>\n      <td>NaN</td>\n      <td>NaN</td>\n      <td>NaN</td>\n      <td>NaN</td>\n      <td>NaN</td>\n      <td>NaN</td>\n      <td>NaN</td>\n      <td>NaN</td>\n      <td>NaN</td>\n      <td>NaN</td>\n      <td>...</td>\n      <td>NaN</td>\n      <td>NaN</td>\n      <td>NaN</td>\n      <td>NaN</td>\n      <td>NaN</td>\n      <td>NaN</td>\n      <td>NaN</td>\n      <td>NaN</td>\n      <td>NaN</td>\n      <td>NaN</td>\n    </tr>\n    <tr>\n      <th>DF</th>\n      <td>NaN</td>\n      <td>NaN</td>\n      <td>NaN</td>\n      <td>NaN</td>\n      <td>NaN</td>\n      <td>NaN</td>\n      <td>NaN</td>\n      <td>NaN</td>\n      <td>NaN</td>\n      <td>NaN</td>\n      <td>...</td>\n      <td>NaN</td>\n      <td>NaN</td>\n      <td>NaN</td>\n      <td>NaN</td>\n      <td>NaN</td>\n      <td>NaN</td>\n      <td>NaN</td>\n      <td>NaN</td>\n      <td>NaN</td>\n      <td>NaN</td>\n    </tr>\n  </tbody>\n</table>\n<p>6 rows × 232 columns</p>\n</div>"
     },
     "metadata": {},
     "execution_count": 9
    }
   ],
   "source": [
    "regioes_df"
   ]
  },
  {
   "cell_type": "markdown",
   "metadata": {},
   "source": [
    "- Adicionando informação de região"
   ]
  },
  {
   "cell_type": "code",
   "execution_count": 10,
   "metadata": {},
   "outputs": [],
   "source": [
    "data_df[\"REGIAO\"] = [\"\"] * len(data_df)\n",
    "for i in range(len(data_df)):\n",
    "    estado = data_df[\"UFN\"].iloc[i]\n",
    "    for regiao in regioes.keys():\n",
    "        if estado in regioes[regiao]: \n",
    "            data_df[\"REGIAO\"].iloc[i] = regiao\n",
    "            break"
   ]
  },
  {
   "cell_type": "markdown",
   "metadata": {},
   "source": [
    "- Agrupando por região"
   ]
  },
  {
   "cell_type": "code",
   "execution_count": 11,
   "metadata": {},
   "outputs": [],
   "source": [
    "regioes_df = data_df.groupby(\"REGIAO\").sum()"
   ]
  },
  {
   "cell_type": "code",
   "execution_count": 12,
   "metadata": {},
   "outputs": [
    {
     "output_type": "execute_result",
     "data": {
      "text/plain": "              ESPVIDA  FECTOT   MORT1   MORT5  RAZDEP  SOBRE40  SOBRE60  \\\nREGIAO                                                                    \nCentro-Oeste   223.81    5.99   48.90   58.03  134.19   279.36   247.92   \nDF              77.35    1.75   14.01   15.85   40.14    94.57    86.19   \nNordeste       645.59   18.61  204.52  221.57  461.74   852.22   762.26   \nNorte          510.13   17.50  129.14  138.80  391.31   669.85   606.17   \nSudeste        301.19    6.93   57.24   65.81  171.87   373.71   331.81   \nSul            226.79    5.33   37.00   42.74  127.30   283.05   253.36   \n\n              T_ENV  E_ANOSESTUDO  T_ANALF11A14  ...  PIA1517    PIA18M  \\\nREGIAO                                           ...                      \nCentro-Oeste  17.99         29.09          5.12  ...   637267   8017904   \nDF             4.97          9.87          1.10  ...   130872   1830940   \nNordeste      63.82         82.93         55.91  ...  3156519  35815343   \nNorte         30.50         62.85         32.93  ...  1018681   9894476   \nSudeste       31.93         38.24          6.53  ...  3986474  58921136   \nSul           23.68         30.67          3.48  ...  1424053  19980498   \n\n                   POP      POPT  I_ESCOLARIDADE  I_FREQ_PROP   IDHM  IDHM_E  \\\nREGIAO                                                                         \nCentro-Oeste  11391379  11301372           1.618        2.075  2.189   1.910   \nDF             2543802   2541714           0.723        0.751  0.824   0.742   \nNordeste      52774148  52007159           4.068        5.688  5.938   5.085   \nNorte         15745203  15178696           3.722        4.320  4.787   4.106   \nSudeste       79803376  79647906           2.342        2.878  3.015   2.685   \nSul           27209415  27141557           1.707        2.178  2.269   2.007   \n\n              IDHM_L  IDHM_R  \nREGIAO                        \nCentro-Oeste   2.481   2.214  \nDF             0.873   0.863  \nNordeste       7.010   5.881  \nNorte          5.586   4.785  \nSudeste        3.353   3.044  \nSul            2.530   2.299  \n\n[6 rows x 232 columns]",
      "text/html": "<div>\n<style scoped>\n    .dataframe tbody tr th:only-of-type {\n        vertical-align: middle;\n    }\n\n    .dataframe tbody tr th {\n        vertical-align: top;\n    }\n\n    .dataframe thead th {\n        text-align: right;\n    }\n</style>\n<table border=\"1\" class=\"dataframe\">\n  <thead>\n    <tr style=\"text-align: right;\">\n      <th></th>\n      <th>ESPVIDA</th>\n      <th>FECTOT</th>\n      <th>MORT1</th>\n      <th>MORT5</th>\n      <th>RAZDEP</th>\n      <th>SOBRE40</th>\n      <th>SOBRE60</th>\n      <th>T_ENV</th>\n      <th>E_ANOSESTUDO</th>\n      <th>T_ANALF11A14</th>\n      <th>...</th>\n      <th>PIA1517</th>\n      <th>PIA18M</th>\n      <th>POP</th>\n      <th>POPT</th>\n      <th>I_ESCOLARIDADE</th>\n      <th>I_FREQ_PROP</th>\n      <th>IDHM</th>\n      <th>IDHM_E</th>\n      <th>IDHM_L</th>\n      <th>IDHM_R</th>\n    </tr>\n    <tr>\n      <th>REGIAO</th>\n      <th></th>\n      <th></th>\n      <th></th>\n      <th></th>\n      <th></th>\n      <th></th>\n      <th></th>\n      <th></th>\n      <th></th>\n      <th></th>\n      <th></th>\n      <th></th>\n      <th></th>\n      <th></th>\n      <th></th>\n      <th></th>\n      <th></th>\n      <th></th>\n      <th></th>\n      <th></th>\n      <th></th>\n    </tr>\n  </thead>\n  <tbody>\n    <tr>\n      <th>Centro-Oeste</th>\n      <td>223.81</td>\n      <td>5.99</td>\n      <td>48.90</td>\n      <td>58.03</td>\n      <td>134.19</td>\n      <td>279.36</td>\n      <td>247.92</td>\n      <td>17.99</td>\n      <td>29.09</td>\n      <td>5.12</td>\n      <td>...</td>\n      <td>637267</td>\n      <td>8017904</td>\n      <td>11391379</td>\n      <td>11301372</td>\n      <td>1.618</td>\n      <td>2.075</td>\n      <td>2.189</td>\n      <td>1.910</td>\n      <td>2.481</td>\n      <td>2.214</td>\n    </tr>\n    <tr>\n      <th>DF</th>\n      <td>77.35</td>\n      <td>1.75</td>\n      <td>14.01</td>\n      <td>15.85</td>\n      <td>40.14</td>\n      <td>94.57</td>\n      <td>86.19</td>\n      <td>4.97</td>\n      <td>9.87</td>\n      <td>1.10</td>\n      <td>...</td>\n      <td>130872</td>\n      <td>1830940</td>\n      <td>2543802</td>\n      <td>2541714</td>\n      <td>0.723</td>\n      <td>0.751</td>\n      <td>0.824</td>\n      <td>0.742</td>\n      <td>0.873</td>\n      <td>0.863</td>\n    </tr>\n    <tr>\n      <th>Nordeste</th>\n      <td>645.59</td>\n      <td>18.61</td>\n      <td>204.52</td>\n      <td>221.57</td>\n      <td>461.74</td>\n      <td>852.22</td>\n      <td>762.26</td>\n      <td>63.82</td>\n      <td>82.93</td>\n      <td>55.91</td>\n      <td>...</td>\n      <td>3156519</td>\n      <td>35815343</td>\n      <td>52774148</td>\n      <td>52007159</td>\n      <td>4.068</td>\n      <td>5.688</td>\n      <td>5.938</td>\n      <td>5.085</td>\n      <td>7.010</td>\n      <td>5.881</td>\n    </tr>\n    <tr>\n      <th>Norte</th>\n      <td>510.13</td>\n      <td>17.50</td>\n      <td>129.14</td>\n      <td>138.80</td>\n      <td>391.31</td>\n      <td>669.85</td>\n      <td>606.17</td>\n      <td>30.50</td>\n      <td>62.85</td>\n      <td>32.93</td>\n      <td>...</td>\n      <td>1018681</td>\n      <td>9894476</td>\n      <td>15745203</td>\n      <td>15178696</td>\n      <td>3.722</td>\n      <td>4.320</td>\n      <td>4.787</td>\n      <td>4.106</td>\n      <td>5.586</td>\n      <td>4.785</td>\n    </tr>\n    <tr>\n      <th>Sudeste</th>\n      <td>301.19</td>\n      <td>6.93</td>\n      <td>57.24</td>\n      <td>65.81</td>\n      <td>171.87</td>\n      <td>373.71</td>\n      <td>331.81</td>\n      <td>31.93</td>\n      <td>38.24</td>\n      <td>6.53</td>\n      <td>...</td>\n      <td>3986474</td>\n      <td>58921136</td>\n      <td>79803376</td>\n      <td>79647906</td>\n      <td>2.342</td>\n      <td>2.878</td>\n      <td>3.015</td>\n      <td>2.685</td>\n      <td>3.353</td>\n      <td>3.044</td>\n    </tr>\n    <tr>\n      <th>Sul</th>\n      <td>226.79</td>\n      <td>5.33</td>\n      <td>37.00</td>\n      <td>42.74</td>\n      <td>127.30</td>\n      <td>283.05</td>\n      <td>253.36</td>\n      <td>23.68</td>\n      <td>30.67</td>\n      <td>3.48</td>\n      <td>...</td>\n      <td>1424053</td>\n      <td>19980498</td>\n      <td>27209415</td>\n      <td>27141557</td>\n      <td>1.707</td>\n      <td>2.178</td>\n      <td>2.269</td>\n      <td>2.007</td>\n      <td>2.530</td>\n      <td>2.299</td>\n    </tr>\n  </tbody>\n</table>\n<p>6 rows × 232 columns</p>\n</div>"
     },
     "metadata": {},
     "execution_count": 12
    }
   ],
   "source": [
    "regioes_df"
   ]
  },
  {
   "cell_type": "markdown",
   "metadata": {},
   "source": [
    "- Normalizando regiões (média)"
   ]
  },
  {
   "cell_type": "code",
   "execution_count": 13,
   "metadata": {},
   "outputs": [],
   "source": [
    "estados_por_regiao = [1/len(regioes[regiao]) for regiao in regioes_df.index]"
   ]
  },
  {
   "cell_type": "code",
   "execution_count": 14,
   "metadata": {},
   "outputs": [
    {
     "output_type": "execute_result",
     "data": {
      "text/plain": "[0.3333333333333333,\n 1.0,\n 0.1111111111111111,\n 0.14285714285714285,\n 0.25,\n 0.3333333333333333]"
     },
     "metadata": {},
     "execution_count": 14
    }
   ],
   "source": [
    "estados_por_regiao"
   ]
  },
  {
   "cell_type": "code",
   "execution_count": 15,
   "metadata": {},
   "outputs": [],
   "source": [
    "regioes_df = regioes_df.multiply(estados_por_regiao, axis=\"index\")"
   ]
  },
  {
   "cell_type": "code",
   "execution_count": 16,
   "metadata": {},
   "outputs": [
    {
     "output_type": "execute_result",
     "data": {
      "text/plain": "                ESPVIDA    FECTOT      MORT1      MORT5     RAZDEP    SOBRE40  \\\nREGIAO                                                                          \nCentro-Oeste  74.603333  1.996667  16.300000  19.343333  44.730000  93.120000   \nDF            77.350000  1.750000  14.010000  15.850000  40.140000  94.570000   \nNordeste      71.732222  2.067778  22.724444  24.618889  51.304444  94.691111   \nNorte         72.875714  2.500000  18.448571  19.828571  55.901429  95.692857   \nSudeste       75.297500  1.732500  14.310000  16.452500  42.967500  93.427500   \nSul           75.596667  1.776667  12.333333  14.246667  42.433333  94.350000   \n\n                SOBRE60     T_ENV  E_ANOSESTUDO  T_ANALF11A14  ...  \\\nREGIAO                                                         ...   \nCentro-Oeste  82.640000  5.996667      9.696667      1.706667  ...   \nDF            86.190000  4.970000      9.870000      1.100000  ...   \nNordeste      84.695556  7.091111      9.214444      6.212222  ...   \nNorte         86.595714  4.357143      8.978571      4.704286  ...   \nSudeste       82.952500  7.982500      9.560000      1.632500  ...   \nSul           84.453333  7.893333     10.223333      1.160000  ...   \n\n                    PIA1517        PIA18M           POP          POPT  \\\nREGIAO                                                                  \nCentro-Oeste  212422.333333  2.672635e+06  3.797126e+06  3.767124e+06   \nDF            130872.000000  1.830940e+06  2.543802e+06  2.541714e+06   \nNordeste      350724.333333  3.979483e+06  5.863794e+06  5.778573e+06   \nNorte         145525.857143  1.413497e+06  2.249315e+06  2.168385e+06   \nSudeste       996618.500000  1.473028e+07  1.995084e+07  1.991198e+07   \nSul           474684.333333  6.660166e+06  9.069805e+06  9.047186e+06   \n\n              I_ESCOLARIDADE  I_FREQ_PROP      IDHM    IDHM_E    IDHM_L  \\\nREGIAO                                                                    \nCentro-Oeste        0.539333     0.691667  0.729667  0.636667  0.827000   \nDF                  0.723000     0.751000  0.824000  0.742000  0.873000   \nNordeste            0.452000     0.632000  0.659778  0.565000  0.778889   \nNorte               0.531714     0.617143  0.683857  0.586571  0.798000   \nSudeste             0.585500     0.719500  0.753750  0.671250  0.838250   \nSul                 0.569000     0.726000  0.756333  0.669000  0.843333   \n\n                IDHM_R  \nREGIAO                  \nCentro-Oeste  0.738000  \nDF            0.863000  \nNordeste      0.653444  \nNorte         0.683571  \nSudeste       0.761000  \nSul           0.766333  \n\n[6 rows x 232 columns]",
      "text/html": "<div>\n<style scoped>\n    .dataframe tbody tr th:only-of-type {\n        vertical-align: middle;\n    }\n\n    .dataframe tbody tr th {\n        vertical-align: top;\n    }\n\n    .dataframe thead th {\n        text-align: right;\n    }\n</style>\n<table border=\"1\" class=\"dataframe\">\n  <thead>\n    <tr style=\"text-align: right;\">\n      <th></th>\n      <th>ESPVIDA</th>\n      <th>FECTOT</th>\n      <th>MORT1</th>\n      <th>MORT5</th>\n      <th>RAZDEP</th>\n      <th>SOBRE40</th>\n      <th>SOBRE60</th>\n      <th>T_ENV</th>\n      <th>E_ANOSESTUDO</th>\n      <th>T_ANALF11A14</th>\n      <th>...</th>\n      <th>PIA1517</th>\n      <th>PIA18M</th>\n      <th>POP</th>\n      <th>POPT</th>\n      <th>I_ESCOLARIDADE</th>\n      <th>I_FREQ_PROP</th>\n      <th>IDHM</th>\n      <th>IDHM_E</th>\n      <th>IDHM_L</th>\n      <th>IDHM_R</th>\n    </tr>\n    <tr>\n      <th>REGIAO</th>\n      <th></th>\n      <th></th>\n      <th></th>\n      <th></th>\n      <th></th>\n      <th></th>\n      <th></th>\n      <th></th>\n      <th></th>\n      <th></th>\n      <th></th>\n      <th></th>\n      <th></th>\n      <th></th>\n      <th></th>\n      <th></th>\n      <th></th>\n      <th></th>\n      <th></th>\n      <th></th>\n      <th></th>\n    </tr>\n  </thead>\n  <tbody>\n    <tr>\n      <th>Centro-Oeste</th>\n      <td>74.603333</td>\n      <td>1.996667</td>\n      <td>16.300000</td>\n      <td>19.343333</td>\n      <td>44.730000</td>\n      <td>93.120000</td>\n      <td>82.640000</td>\n      <td>5.996667</td>\n      <td>9.696667</td>\n      <td>1.706667</td>\n      <td>...</td>\n      <td>212422.333333</td>\n      <td>2.672635e+06</td>\n      <td>3.797126e+06</td>\n      <td>3.767124e+06</td>\n      <td>0.539333</td>\n      <td>0.691667</td>\n      <td>0.729667</td>\n      <td>0.636667</td>\n      <td>0.827000</td>\n      <td>0.738000</td>\n    </tr>\n    <tr>\n      <th>DF</th>\n      <td>77.350000</td>\n      <td>1.750000</td>\n      <td>14.010000</td>\n      <td>15.850000</td>\n      <td>40.140000</td>\n      <td>94.570000</td>\n      <td>86.190000</td>\n      <td>4.970000</td>\n      <td>9.870000</td>\n      <td>1.100000</td>\n      <td>...</td>\n      <td>130872.000000</td>\n      <td>1.830940e+06</td>\n      <td>2.543802e+06</td>\n      <td>2.541714e+06</td>\n      <td>0.723000</td>\n      <td>0.751000</td>\n      <td>0.824000</td>\n      <td>0.742000</td>\n      <td>0.873000</td>\n      <td>0.863000</td>\n    </tr>\n    <tr>\n      <th>Nordeste</th>\n      <td>71.732222</td>\n      <td>2.067778</td>\n      <td>22.724444</td>\n      <td>24.618889</td>\n      <td>51.304444</td>\n      <td>94.691111</td>\n      <td>84.695556</td>\n      <td>7.091111</td>\n      <td>9.214444</td>\n      <td>6.212222</td>\n      <td>...</td>\n      <td>350724.333333</td>\n      <td>3.979483e+06</td>\n      <td>5.863794e+06</td>\n      <td>5.778573e+06</td>\n      <td>0.452000</td>\n      <td>0.632000</td>\n      <td>0.659778</td>\n      <td>0.565000</td>\n      <td>0.778889</td>\n      <td>0.653444</td>\n    </tr>\n    <tr>\n      <th>Norte</th>\n      <td>72.875714</td>\n      <td>2.500000</td>\n      <td>18.448571</td>\n      <td>19.828571</td>\n      <td>55.901429</td>\n      <td>95.692857</td>\n      <td>86.595714</td>\n      <td>4.357143</td>\n      <td>8.978571</td>\n      <td>4.704286</td>\n      <td>...</td>\n      <td>145525.857143</td>\n      <td>1.413497e+06</td>\n      <td>2.249315e+06</td>\n      <td>2.168385e+06</td>\n      <td>0.531714</td>\n      <td>0.617143</td>\n      <td>0.683857</td>\n      <td>0.586571</td>\n      <td>0.798000</td>\n      <td>0.683571</td>\n    </tr>\n    <tr>\n      <th>Sudeste</th>\n      <td>75.297500</td>\n      <td>1.732500</td>\n      <td>14.310000</td>\n      <td>16.452500</td>\n      <td>42.967500</td>\n      <td>93.427500</td>\n      <td>82.952500</td>\n      <td>7.982500</td>\n      <td>9.560000</td>\n      <td>1.632500</td>\n      <td>...</td>\n      <td>996618.500000</td>\n      <td>1.473028e+07</td>\n      <td>1.995084e+07</td>\n      <td>1.991198e+07</td>\n      <td>0.585500</td>\n      <td>0.719500</td>\n      <td>0.753750</td>\n      <td>0.671250</td>\n      <td>0.838250</td>\n      <td>0.761000</td>\n    </tr>\n    <tr>\n      <th>Sul</th>\n      <td>75.596667</td>\n      <td>1.776667</td>\n      <td>12.333333</td>\n      <td>14.246667</td>\n      <td>42.433333</td>\n      <td>94.350000</td>\n      <td>84.453333</td>\n      <td>7.893333</td>\n      <td>10.223333</td>\n      <td>1.160000</td>\n      <td>...</td>\n      <td>474684.333333</td>\n      <td>6.660166e+06</td>\n      <td>9.069805e+06</td>\n      <td>9.047186e+06</td>\n      <td>0.569000</td>\n      <td>0.726000</td>\n      <td>0.756333</td>\n      <td>0.669000</td>\n      <td>0.843333</td>\n      <td>0.766333</td>\n    </tr>\n  </tbody>\n</table>\n<p>6 rows × 232 columns</p>\n</div>"
     },
     "metadata": {},
     "execution_count": 16
    }
   ],
   "source": [
    "regioes_df"
   ]
  },
  {
   "cell_type": "markdown",
   "metadata": {},
   "source": [
    "# Salvando resultados"
   ]
  },
  {
   "cell_type": "code",
   "execution_count": 17,
   "metadata": {},
   "outputs": [],
   "source": [
    "regioes_df.to_excel(\"../dados/processados/regioes_atlas2013_pt.xlsx\")\n",
    "data_df.to_excel(\"../dados/processados/estados_atlas2013_pt.xlsx\")"
   ]
  },
  {
   "cell_type": "markdown",
   "metadata": {},
   "source": [
    "# Extraindo informações sobre a idade da população"
   ]
  },
  {
   "cell_type": "code",
   "execution_count": 18,
   "metadata": {},
   "outputs": [],
   "source": [
    "espec_vida_df = data_df[[\"UFN\", \"PESO15\", \"PESO18\", \"PESO25\", \"PESO65\"]]\n",
    "espec_vida_df.set_index(\"UFN\", inplace=True)\n",
    "# Renomeado colunas\n",
    "espec_vida_df.columns = [\"A15\", \"A18\", \"A25\", \"A65\"]"
   ]
  },
  {
   "cell_type": "code",
   "execution_count": 19,
   "metadata": {},
   "outputs": [
    {
     "output_type": "execute_result",
     "data": {
      "text/plain": "              A15      A18      A25     A65\nUFN                                        \nRondônia  1135560  1039911   828938   73326\nAcre       486011   438101   338795   31684\nAmazonas  2322154  2095089  1619462  140414\nRoraima    300411   271416   210189   15551\nPará      5220214  4735782  3685997  360432",
      "text/html": "<div>\n<style scoped>\n    .dataframe tbody tr th:only-of-type {\n        vertical-align: middle;\n    }\n\n    .dataframe tbody tr th {\n        vertical-align: top;\n    }\n\n    .dataframe thead th {\n        text-align: right;\n    }\n</style>\n<table border=\"1\" class=\"dataframe\">\n  <thead>\n    <tr style=\"text-align: right;\">\n      <th></th>\n      <th>A15</th>\n      <th>A18</th>\n      <th>A25</th>\n      <th>A65</th>\n    </tr>\n    <tr>\n      <th>UFN</th>\n      <th></th>\n      <th></th>\n      <th></th>\n      <th></th>\n    </tr>\n  </thead>\n  <tbody>\n    <tr>\n      <th>Rondônia</th>\n      <td>1135560</td>\n      <td>1039911</td>\n      <td>828938</td>\n      <td>73326</td>\n    </tr>\n    <tr>\n      <th>Acre</th>\n      <td>486011</td>\n      <td>438101</td>\n      <td>338795</td>\n      <td>31684</td>\n    </tr>\n    <tr>\n      <th>Amazonas</th>\n      <td>2322154</td>\n      <td>2095089</td>\n      <td>1619462</td>\n      <td>140414</td>\n    </tr>\n    <tr>\n      <th>Roraima</th>\n      <td>300411</td>\n      <td>271416</td>\n      <td>210189</td>\n      <td>15551</td>\n    </tr>\n    <tr>\n      <th>Pará</th>\n      <td>5220214</td>\n      <td>4735782</td>\n      <td>3685997</td>\n      <td>360432</td>\n    </tr>\n  </tbody>\n</table>\n</div>"
     },
     "metadata": {},
     "execution_count": 19
    }
   ],
   "source": [
    "espec_vida_df.head()"
   ]
  },
  {
   "cell_type": "code",
   "execution_count": 20,
   "metadata": {},
   "outputs": [],
   "source": [
    "espec_vida_df.to_excel(\"../dados/processados/espectativa_de_vida_atlas2013.xlsx\")"
   ]
  },
  {
   "cell_type": "markdown",
   "metadata": {},
   "source": [
    "# Extraindo informações sobre a economia dos estados"
   ]
  },
  {
   "cell_type": "code",
   "execution_count": 21,
   "metadata": {},
   "outputs": [],
   "source": [
    "economia_df = data_df[[\"UFN\", \"PMPOB\", \"PPOB\", \"RDPC\", \"PEA\", \"PREN10RICOS\"]]\n",
    "economia_df.set_index(\"UFN\", inplace=True)\n",
    "# Renomeado colunas\n",
    "economia_df.columns = [\"pctPobreza\", \"vulnProbreza\", \"rendaPerCapta\", \"PEA\", \"concRiqueza\"]"
   ]
  },
  {
   "cell_type": "code",
   "execution_count": 22,
   "metadata": {},
   "outputs": [
    {
     "output_type": "execute_result",
     "data": {
      "text/plain": "          pctPobreza  vulnProbreza  rendaPerCapta      PEA  concRiqueza\nUFN                                                                    \nRondônia       14.80         33.33         670.82   777441        44.72\nAcre           29.46         50.97         522.15   304651        50.56\nAmazonas       30.78         51.78         539.80  1473043        53.64\nRoraima        26.65         45.72         605.59   197525        49.85\nPará           32.33         55.99         446.76  3206614        50.17",
      "text/html": "<div>\n<style scoped>\n    .dataframe tbody tr th:only-of-type {\n        vertical-align: middle;\n    }\n\n    .dataframe tbody tr th {\n        vertical-align: top;\n    }\n\n    .dataframe thead th {\n        text-align: right;\n    }\n</style>\n<table border=\"1\" class=\"dataframe\">\n  <thead>\n    <tr style=\"text-align: right;\">\n      <th></th>\n      <th>pctPobreza</th>\n      <th>vulnProbreza</th>\n      <th>rendaPerCapta</th>\n      <th>PEA</th>\n      <th>concRiqueza</th>\n    </tr>\n    <tr>\n      <th>UFN</th>\n      <th></th>\n      <th></th>\n      <th></th>\n      <th></th>\n      <th></th>\n    </tr>\n  </thead>\n  <tbody>\n    <tr>\n      <th>Rondônia</th>\n      <td>14.80</td>\n      <td>33.33</td>\n      <td>670.82</td>\n      <td>777441</td>\n      <td>44.72</td>\n    </tr>\n    <tr>\n      <th>Acre</th>\n      <td>29.46</td>\n      <td>50.97</td>\n      <td>522.15</td>\n      <td>304651</td>\n      <td>50.56</td>\n    </tr>\n    <tr>\n      <th>Amazonas</th>\n      <td>30.78</td>\n      <td>51.78</td>\n      <td>539.80</td>\n      <td>1473043</td>\n      <td>53.64</td>\n    </tr>\n    <tr>\n      <th>Roraima</th>\n      <td>26.65</td>\n      <td>45.72</td>\n      <td>605.59</td>\n      <td>197525</td>\n      <td>49.85</td>\n    </tr>\n    <tr>\n      <th>Pará</th>\n      <td>32.33</td>\n      <td>55.99</td>\n      <td>446.76</td>\n      <td>3206614</td>\n      <td>50.17</td>\n    </tr>\n  </tbody>\n</table>\n</div>"
     },
     "metadata": {},
     "execution_count": 22
    }
   ],
   "source": [
    "economia_df.head()"
   ]
  },
  {
   "cell_type": "code",
   "execution_count": 23,
   "metadata": {},
   "outputs": [],
   "source": [
    "espec_vida_df.to_excel(\"../dados/processados/economia_atlas2013.xlsx\")"
   ]
  }
 ],
 "metadata": {
  "language_info": {
   "name": "python",
   "codemirror_mode": {
    "name": "ipython",
    "version": 3
   },
   "version": "3.7.7-final"
  },
  "orig_nbformat": 2,
  "file_extension": ".py",
  "mimetype": "text/x-python",
  "name": "python",
  "npconvert_exporter": "python",
  "pygments_lexer": "ipython3",
  "version": 3,
  "kernelspec": {
   "name": "python37764bit8cae92954396406fae214d2a45a235d9",
   "display_name": "Python 3.7.7 64-bit"
  }
 },
 "nbformat": 4,
 "nbformat_minor": 2
}